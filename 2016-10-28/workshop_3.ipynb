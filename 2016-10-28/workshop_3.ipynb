{
 "cells": [
  {
   "cell_type": "markdown",
   "metadata": {},
   "source": [
    "# MyDesignStairs"
   ]
  },
  {
   "cell_type": "markdown",
   "metadata": {},
   "source": [
    "![Immagine di riferimento](http://pad1.whstatic.com/images/thumb/c/ce/Build-Porch-Steps-Step-1.jpg/aid1356645-728px-Build-Porch-Steps-Step-1.jpg)"
   ]
  },
  {
   "cell_type": "markdown",
   "metadata": {},
   "source": [
    "designStaris è una funzione che prende in ingresso rispettivamente la larghezza la profondita e l'altezza di una rampa di scale e restituisce la view di una scala. PEr prima cosa mi calcolo l'alzata e la pedata (che devono rispettare proprorzioni reali, 15cm alzata; 30 cm pedata) in funzione delle dimensioni date. Utilizza la funzione MKPOL per creare uno scalino  con la base per poi traslarlo fino al penultimo scalino. L'ultimo scalino viene costruito con un semplice CUBOID per non far venire la rampa anche all'ultimo scalino."
   ]
  },
  {
   "cell_type": "code",
   "execution_count": null,
   "metadata": {
    "collapsed": false
   },
   "outputs": [
    {
     "name": "stdout",
     "output_type": "stream",
     "text": [
      "Evaluating fenvs.py..\n",
      "...fenvs.py imported in 0.006522 seconds\n"
     ]
    }
   ],
   "source": [
    "from pyplasm import*\n",
    "from math import*\n",
    "\n",
    "def designStairs(x,y,z):\n",
    "    if(z>3):\n",
    "        print(\"altezza immessa fuori standard\")\n",
    "        z=input(\"immetti nuovo valore (<=3):\")\n",
    "    if(y>6):\n",
    "        print(\"sprofondita immessa fuori standard\")\n",
    "        y=input(\"immetti nuovo valore (<=6):\")\n",
    "    if(x>1.5):\n",
    "        print(\"larghezza immessa fuori standard\")\n",
    "        x=input(\"immetti nuovo valore (<=1):\")\n",
    "        \n",
    "    alzataProvv=0.15\n",
    "    pedataProvv=0.30\n",
    "    \n",
    "    alzata=(z/round(z/alzataProvv))\n",
    "    pedata=(y/round(y/pedataProvv))\n",
    "    \n",
    "    #print alzata\n",
    "    #print pedata\n",
    "    \n",
    "    numeroScalini=int(z/alzata)\n",
    "    #print numeroScalini\n",
    "    \n",
    "    piano = PROD([PROD([QUOTE([0.4]),QUOTE([y])]), QUOTE([z])])\n",
    "    muro=STRUCT([piano])\n",
    "    \n",
    "    #scalino=PROD([QUOTE([x]),QUOTE([pedata])])\n",
    "    #scalino=PROD([scalino,QUOTE([alzata])])\n",
    "    \n",
    "    scalino= MKPOL([[[0,0,0],[0,0,alzata],[0,pedata,0],[0,pedata*2,alzata],[x,0,0],[x,0,alzata],[x,pedata,0],[x,pedata*2,alzata]],[[1,2,3,4,5,6,7,8]],1])\n",
    "    \n",
    "    scala=QUOTE([0])\n",
    "    altezza=0\n",
    "    profondita=0\n",
    "    for i in range(numeroScalini-1):\n",
    "        scala=STRUCT([scala,T([2,3])([profondita,altezza])(scalino)])\n",
    "        altezza=altezza+alzata\n",
    "        profondita=profondita+pedata\n",
    "    \n",
    "    ultimoscalino=CUBOID([x,pedata,alzata])\n",
    "    \n",
    "    scala=STRUCT([scala,T([2,3])([profondita,altezza])(ultimoscalino)])\n",
    "    scala=TEXTURE([\"/Users/caosnumerico/Desktop/Grafica/progetti/development/ggpl/2016-10-28/PAVIMENTO-TEXTURE-006.jpg\",True,False,1,1,0,10,10])(scala)\n",
    "    muro=TEXTURE([\"/Users/caosnumerico/Desktop/Grafica/progetti/development/ggpl/2016-10-28/292453_muro-sfondo-texture-mattone-casa-costruzione.jpg\",True,False,1,1,0,5,5])(muro)\n",
    "\n",
    "\n",
    "\n",
    "    stampare=STRUCT([muro,scala])\n",
    "    VIEW(stampare)\n",
    "    \n",
    "    "
   ]
  },
  {
   "cell_type": "code",
   "execution_count": null,
   "metadata": {
    "collapsed": false
   },
   "outputs": [],
   "source": [
    "#designStairs(1,6,3)\n",
    "designStairs(1.5,4.7,2.4)"
   ]
  }
 ],
 "metadata": {
  "anaconda-cloud": {},
  "kernelspec": {
   "display_name": "Python [default]",
   "language": "python",
   "name": "python2"
  },
  "language_info": {
   "codemirror_mode": {
    "name": "ipython",
    "version": 2
   },
   "file_extension": ".py",
   "mimetype": "text/x-python",
   "name": "python",
   "nbconvert_exporter": "python",
   "pygments_lexer": "ipython2",
   "version": "2.7.12"
  }
 },
 "nbformat": 4,
 "nbformat_minor": 1
}
