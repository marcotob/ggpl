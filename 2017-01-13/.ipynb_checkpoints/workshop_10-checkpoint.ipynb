{
 "cells": [
  {
   "cell_type": "markdown",
   "metadata": {},
   "source": [
    "# My_House\n"
   ]
  },
  {
   "cell_type": "code",
   "execution_count": 1,
   "metadata": {
    "collapsed": false
   },
   "outputs": [
    {
     "name": "stdout",
     "output_type": "stream",
     "text": [
      "Evaluating fenvs.py..\n",
      "...fenvs.py imported in 0.006376 seconds\n"
     ]
    }
   ],
   "source": [
    "from pyplasm import*\n",
    "from math import*\n",
    "import csv"
   ]
  },
  {
   "cell_type": "code",
   "execution_count": 2,
   "metadata": {
    "collapsed": true
   },
   "outputs": [],
   "source": [
    "def listFromString(stringa):\n",
    "    lista=stringa.split(\",\")\n",
    "    lista2=[]\n",
    "    for elem in lista:\n",
    "        lista2.append(float(elem)/40.)  \n",
    "    return lista2"
   ]
  },
  {
   "cell_type": "code",
   "execution_count": 3,
   "metadata": {
    "collapsed": true
   },
   "outputs": [],
   "source": [
    "def designStairs(x,y,z):\n",
    "    \n",
    "        \n",
    "    alzataProvv=0.15\n",
    "    pedataProvv=0.30\n",
    "    \n",
    "    alzata=(z/round(z/alzataProvv))\n",
    "    pedata=(y/round(y/pedataProvv))\n",
    "    \n",
    "   \n",
    "    numeroScalini=int(z/alzata)\n",
    "    \n",
    "    piano = PROD([PROD([QUOTE([0.4]),QUOTE([y])]), QUOTE([z])])\n",
    "    muro=STRUCT([piano])\n",
    "   \n",
    "    scalino= MKPOL([[[0,0,0],[0,0,alzata],[0,pedata,0],[0,pedata*2,alzata],[x,0,0],[x,0,alzata],[x,pedata,0],[x,pedata*2,alzata]],[[1,2,3,4,5,6,7,8]],1])\n",
    "    \n",
    "    scala=QUOTE([0])\n",
    "    altezza=0\n",
    "    profondita=0\n",
    "    for i in range(numeroScalini-1):\n",
    "        scala=STRUCT([scala,T([2,3])([profondita,altezza])(scalino)])\n",
    "        altezza=altezza+alzata\n",
    "        profondita=profondita+pedata\n",
    "    \n",
    "    ultimoscalino=CUBOID([x,pedata,alzata])\n",
    "    \n",
    "    scala=STRUCT([scala,T([2,3])([profondita,altezza])(ultimoscalino)])\n",
    "    scala=TEXTURE([\"PAVIMENTO-TEXTURE-006.jpg\",True,False,1,1,0,10,10])(scala)\n",
    "    muro=TEXTURE([\"/Users/caosnumerico/Desktop/Grafica/progetti/development/ggpl/2016-10-28/292453_muro-sfondo-texture-mattone-casa-costruzione.jpg\",True,False,1,1,0,5,5])(muro)\n",
    "\n",
    "\n",
    "\n",
    "    stair=STRUCT([scala])\n",
    "    return stair"
   ]
  },
  {
   "cell_type": "code",
   "execution_count": 4,
   "metadata": {
    "collapsed": true
   },
   "outputs": [],
   "source": [
    "def ggpl_svgPorte(file):\n",
    "    planimetria=QUOTE([0])\n",
    "    with open(file, 'rb') as csvFile:\n",
    "        reader = csv.DictReader(csvFile)\n",
    "        righe=csv.reader(csvFile, delimiter=' ',quotechar='|')\n",
    "        for riga in righe:\n",
    "            l=listFromString(riga[0])\n",
    "            linea=MKPOL([[[l[0],l[1],0],[l[2],l[3],0]],[[1,2]],[1]])\n",
    "            #linea=OFFSET([0.6,0.6,2.0])(linea)\n",
    "            #linea=OFFSET([-0.5,-0.2,2])(linea)\n",
    "            #linea=TEXTURE([\"porta.jpg\"])(linea)\n",
    "            planimetria=STRUCT([planimetria,linea])\n",
    "            \n",
    "    planimetria=OFFSET([0.6,0.6,2.2])(planimetria)\n",
    "    planimetria=OFFSET([-0.5,-0.2,0])(planimetria)\n",
    "\n",
    "    \n",
    "    return planimetria "
   ]
  },
  {
   "cell_type": "code",
   "execution_count": 5,
   "metadata": {
    "collapsed": true
   },
   "outputs": [],
   "source": [
    "def ggpl_svgPorte2(file):\n",
    "    #planimetria=QUOTE([0])\n",
    "    planimetria = None\n",
    "    with open(file, 'rb') as csvFile:\n",
    "        reader = csv.DictReader(csvFile)\n",
    "        righe=csv.reader(csvFile, delimiter=' ',quotechar='|')\n",
    "        for riga in righe:\n",
    "            l=listFromString(riga[0])\n",
    "            linea=MKPOL([[[l[0],l[1],0],[l[2],l[3],0]],[[1,2]],[1]])\n",
    "            #linea=OFFSET([0.1,0.6,0])(linea)\n",
    "            #linea=OFFSET([-0.1,-0.2,2])(linea)\n",
    "            #linea=TEXTURE(\"porta.jpg\")(linea)\n",
    "\n",
    "            if planimetria == None:\n",
    "                planimetria = linea\n",
    "            else:\n",
    "                planimetria=STRUCT([planimetria,linea])\n",
    "        \n",
    "    planimetria=OFFSET([0.1,0.6,2.2])(planimetria)\n",
    "    planimetria=OFFSET([-0.1,-0.2,0])(planimetria)\n",
    "    \n",
    "    return planimetria "
   ]
  },
  {
   "cell_type": "code",
   "execution_count": 6,
   "metadata": {
    "collapsed": true
   },
   "outputs": [],
   "source": [
    "def ggpl_svgFinestre(file):\n",
    "    #planimetria=QUOTE([0])\n",
    "    planimetria = None\n",
    "    with open(file, 'rb') as csvFile:\n",
    "        reader = csv.DictReader(csvFile)\n",
    "        righe=csv.reader(csvFile, delimiter=' ',quotechar='|')\n",
    "        for riga in righe:\n",
    "            l=listFromString(riga[0])\n",
    "            linea=MKPOL([[[l[0],l[1],0],[l[2],l[3],0]],[[1,2]],[1]])\n",
    "            if planimetria == None:\n",
    "                planimetria = linea\n",
    "            else:\n",
    "                planimetria=STRUCT([planimetria,linea])\n",
    "    \n",
    "    planimetria=OFFSET([0.4,0.4,1.5])(planimetria)\n",
    "    planimetria=OFFSET([-0.4,-0.2,0])(planimetria)\n",
    "    \n",
    "    return planimetria "
   ]
  },
  {
   "cell_type": "code",
   "execution_count": 7,
   "metadata": {
    "collapsed": true
   },
   "outputs": [],
   "source": [
    "def ggpl_svgFinestre2(file):\n",
    "    #planimetria=QUOTE([0])\n",
    "    planimetria = None\n",
    "    with open(file, 'rb') as csvFile:\n",
    "        reader = csv.DictReader(csvFile)\n",
    "        righe=csv.reader(csvFile, delimiter=' ',quotechar='|')\n",
    "        for riga in righe:\n",
    "            l=listFromString(riga[0])\n",
    "            linea=MKPOL([[[l[0],l[1],0],[l[2],l[3],0]],[[1,2]],[1]])\n",
    "            if planimetria == None:\n",
    "                planimetria = linea\n",
    "            else:\n",
    "                planimetria=STRUCT([planimetria,linea])\n",
    "    \n",
    "    \n",
    "    planimetria=OFFSET([0.1,0.4,1.5])(planimetria)\n",
    "    planimetria=OFFSET([-0.1,-0.2,0])(planimetria)\n",
    "    \n",
    "    return planimetria "
   ]
  },
  {
   "cell_type": "code",
   "execution_count": 8,
   "metadata": {
    "collapsed": true
   },
   "outputs": [],
   "source": [
    "def ggpl_svgParetiI(file):\n",
    "    planimetria=QUOTE([0])\n",
    "    with open(file, 'rb') as csvFile:\n",
    "        reader = csv.DictReader(csvFile)\n",
    "        righe=csv.reader(csvFile, delimiter=' ',quotechar='|')\n",
    "        for riga in righe:\n",
    "            l=listFromString(riga[0])\n",
    "            linea=MKPOL([[[l[0],l[1],0],[l[2],l[3],0]],[[1,2]],[1]])\n",
    "            planimetria=STRUCT([planimetria,linea])\n",
    "    \n",
    "    planimetria=OFFSET([0.15,0.15,3.5])(planimetria)\n",
    "    \n",
    "    c=PROD([QUOTE([2]),QUOTE([2])])\n",
    "    d=PROD([c,QUOTE([50])])\n",
    "    planimetria=DIFFERENCE([planimetria,d])\n",
    "    \n",
    "    return planimetria "
   ]
  },
  {
   "cell_type": "code",
   "execution_count": 9,
   "metadata": {
    "collapsed": false
   },
   "outputs": [],
   "source": [
    "def ggpl_svgFacciataE(file):\n",
    "    facciata=QUOTE([0])\n",
    "    c = 0\n",
    "    with open(file, 'rb') as csvFile:\n",
    "        reader = csv.DictReader(csvFile)\n",
    "        righe=csv.reader(csvFile, delimiter=' ',quotechar='|')\n",
    "        for riga in righe:\n",
    "            if c <= 1:\n",
    "                l1 = listFromString(riga[0])\n",
    "                linea1 = MKPOL([[[l1[0],l1[1],0],[l1[2],l1[3],0]],[[1,2]],[1]])\n",
    "                facciata=STRUCT([facciata,linea1])\n",
    "            else: break\n",
    "            c += 1\n",
    "    \n",
    "    facciata=OFFSET([0.15,0.15,3.5])(facciata)\n",
    "    \n",
    "    return facciata"
   ]
  },
  {
   "cell_type": "code",
   "execution_count": 10,
   "metadata": {
    "collapsed": true
   },
   "outputs": [],
   "source": [
    "def ggpl_svgParetiE(file):\n",
    "    planimetria=QUOTE([0])\n",
    "    with open(file, 'rb') as csvFile:\n",
    "        reader = csv.DictReader(csvFile)\n",
    "        righe=csv.reader(csvFile, delimiter=' ',quotechar='|')\n",
    "        for riga in righe:\n",
    "            l=listFromString(riga[0])\n",
    "            linea=MKPOL([[[l[0],l[1],0],[l[2],l[3],0]],[[1,2]],[1]])\n",
    "            planimetria=STRUCT([planimetria,linea])\n",
    "    \n",
    "    planimetria=OFFSET([0.3,0.3,3.5])(planimetria)\n",
    "    \n",
    "    c=PROD([QUOTE([2]),QUOTE([2])])\n",
    "    d=PROD([c,QUOTE([50])])\n",
    "    planimetria=DIFFERENCE([planimetria,d])\n",
    "    \n",
    "    return planimetria"
   ]
  },
  {
   "cell_type": "code",
   "execution_count": 11,
   "metadata": {
    "collapsed": true
   },
   "outputs": [],
   "source": [
    "def creaTetto(tettoSolido):\n",
    "    listavertici1=UKPOL(tettoSolido)\n",
    "    tettoPiano=OFFSET([0.2,0.2,-0.2])(tettoSolido)\n",
    "    tettoPiano=T(3)(0.2)(tettoPiano)\n",
    "    #tettoPiano=COLOR(RED)(tettoPiano)\n",
    "    tettoPiano=TEXTURE([\"tettoP.jpg\",True,False,1,1,0,15,15])(tettoPiano)\n",
    "    scheletro=SKEL_1(tettoSolido)\n",
    "    scheletroSpesso=OFFSET([0.2,0.2,-0.5])(scheletro)\n",
    "    scheletroSpesso=COLOR(BROWN)(scheletroSpesso)\n",
    "    finale=STRUCT([scheletroSpesso,tettoPiano])\n",
    "\n",
    "    return finale"
   ]
  },
  {
   "cell_type": "code",
   "execution_count": 12,
   "metadata": {
    "collapsed": true
   },
   "outputs": [],
   "source": [
    "def creaCombinationRoof():\n",
    "    tettoFacce=MKPOL([[[0,0,0],[6,0,0],[0,12,0],[6,12,0],[2,3,2],[2,9,2],[4,3,2],[4,9,2],[3,6,3.5]],[[1,3,5,6],[3,4,6,8],[4,2,8,7],[2,1,5,7],[5,6,9],[6,8,9],[8,7,9],[7,5,9]],1])\n",
    "    tettoFacce=OFFSET([0,0,0.01])(tettoFacce)\n",
    "    return tettoFacce"
   ]
  },
  {
   "cell_type": "code",
   "execution_count": 13,
   "metadata": {
    "collapsed": true
   },
   "outputs": [],
   "source": [
    "def creaPavimento(x,y,z):\n",
    "    pavimento=MKPOL([[[x+1.26,y+9,z],[x+1.26,y+21.7,z],[x+19,y+9,z],[x+19,y+21.7,z]],[[1,2,3,4]],[1]])\n",
    "    pavimento=OFFSET([0,0,-0.1])(pavimento)\n",
    "\n",
    "    return pavimento"
   ]
  },
  {
   "cell_type": "code",
   "execution_count": 14,
   "metadata": {
    "collapsed": false
   },
   "outputs": [],
   "source": [
    "def ggpl_MyHouse():\n",
    "    finestre=ggpl_svgFinestre(\"finestre.lines\")\n",
    "    porte=ggpl_svgPorte(\"porte.lines\")\n",
    "    paretiE=ggpl_svgParetiE(\"pareti_esterne.lines\")\n",
    "    paretiI=ggpl_svgParetiI(\"pareti_interne.lines\")\n",
    "    finestre=T(3)(1)(finestre)\n",
    "    pareti=STRUCT([paretiE,paretiI])\n",
    "    pavimento=creaPavimento(0,0,0)\n",
    "    bucoScala=MKPOL([[[8.3,10,0],[8.3,11.5,0],[11,10,0],[11,11.5,0]],[[1,2,3,4]],[1]])\n",
    "    bucoScala=OFFSET([0,0,-0.1])(bucoScala)\n",
    "    pavimento=DIFFERENCE([pavimento,bucoScala])\n",
    "    pareti_finestre=DIFFERENCE([pareti,finestre])\n",
    "    pareti_finestre_porte=DIFFERENCE([pareti_finestre,porte])\n",
    "    scala= designStairs(1.5,3.5,3.5)\n",
    "    scala=R([1,2])(PI/2)(scala)\n",
    "    scala=T(1)(15)(scala)\n",
    "    scala=T(2)(10)(scala)\n",
    "    finestre2=ggpl_svgFinestre2(\"finestre.lines\")\n",
    "    finestre2=T(3)(1)(finestre2)\n",
    "    finestre2=TEXTURE([\"vetroV.jpg\",True,False,1,1,0,1,1])(finestre2)\n",
    "    porte2=ggpl_svgPorte2(\"porte.lines\")\n",
    "    #porte2=COLOR(Color4f([139/255.,69/255.,19/255.,1]))(porte2)\n",
    "    porte2=TEXTURE([\"porta.jpg\",True,False,1,1,0,5,10])(porte2)\n",
    "    r1=MKPOL([[[1.26,9,0],[1.26,9,1.3],[1.26,11.5,0],[1.26,11.5,1.3]],[[1,2,3,4]],[1]])\n",
    "    r1=TEXTURE([\"mattoniM.jpg\",True,False,1,1,0,4,4])(r1)\n",
    "    r2=MKPOL([[[1.26,9,0],[1.26,9,1.3],[19,9,0],[19,9,1.3]],[[1,2,3,4]],[1]])\n",
    "    r2=TEXTURE([\"mattoniM.jpg\",True,False,1,1,0,4,4])(r2)\n",
    "    r3=MKPOL([[[19,9,0],[19,9,1.3],[19,21.7,0],[19,21.7,1.3]],[[1,2,3,4]],[1]])    \n",
    "    r3=TEXTURE([\"mattoniM.jpg\",True,False,1,1,0,4,4])(r3)\n",
    "    r4=MKPOL([[[19,21.7,0],[19,21.7,1.3],[17,21.7,0],[17,21.7,1.3]],[[1,2,3,4]],[1]])\n",
    "    r4=TEXTURE([\"mattoniM.jpg\",True,False,1,1,0,4,4])(r4)\n",
    "    INTERNE=DIFFERENCE([paretiI,porte])\n",
    "    ESTERNE=DIFFERENCE([paretiE,porte])\n",
    "    ESTERNE=DIFFERENCE([ESTERNE,finestre])\n",
    "    ESTERNE=TEXTURE([\"muroM.jpg\",True,False,1,1,PI/8,100,4])(ESTERNE)\n",
    "    PARETI=STRUCT([INTERNE,ESTERNE])\n",
    "    pareti_finestre_porte=STRUCT([PARETI,pavimento,scala,r1,r2,r3,r4,finestre2,porte2])\n",
    "    \n",
    "    return pareti_finestre_porte\n",
    "\n",
    "\n",
    "    "
   ]
  },
  {
   "cell_type": "code",
   "execution_count": 15,
   "metadata": {
    "collapsed": true
   },
   "outputs": [],
   "source": [
    "def ggpl_ultimopiano():\n",
    "    \n",
    "    pavimento=creaPavimento(0,0,0)\n",
    "    bucoScala=MKPOL([[[8.3,10,0],[8.3,11.5,0],[11,10,0],[11,11.5,0]],[[1,2,3,4]],[1]])\n",
    "    bucoScala=OFFSET([0,0,-0.1])(bucoScala)\n",
    "    pavimento=DIFFERENCE([pavimento,bucoScala])\n",
    "    r1=MKPOL([[[1.26,9,0],[1.26,9,1.3],[1.26,21.7,0],[1.26,21.7,1.3]],[[1,2,3,4]],[1]])\n",
    "    r2=MKPOL([[[1.26,9,0],[1.26,9,1.3],[19,9,0],[19,9,1.3]],[[1,2,3,4]],[1]])\n",
    "    r3=MKPOL([[[19,9,0],[19,9,1.3],[19,21.7,0],[19,21.7,1.3]],[[1,2,3,4]],[1]])\n",
    "    r4=MKPOL([[[19,21.7,0],[19,21.7,1.3],[1.26,21.7,0],[1.26,21.7,1.3]],[[1,2,3,4]],[1]])\n",
    "\n",
    "\n",
    "    pareti_finestre_porte=STRUCT([pavimento,r1,r2,r3,r4])\n",
    "    return pareti_finestre_porte\n",
    "\n"
   ]
  },
  {
   "cell_type": "code",
   "execution_count": 16,
   "metadata": {
    "collapsed": false
   },
   "outputs": [],
   "source": [
    "def piani():\n",
    "    primo= ggpl_MyHouse()\n",
    "    secondo =ggpl_MyHouse()\n",
    "    secondo=T(3)(3.5)(secondo)\n",
    "    terzo=ggpl_MyHouse()\n",
    "    terzo=T(3)(7)(terzo)\n",
    "    quarto =ggpl_MyHouse()\n",
    "    quarto=T(3)(10.5)(quarto)\n",
    "    quinto =ggpl_MyHouse()\n",
    "    quinto=T(3)(14)(quinto)\n",
    "    ultimo=ggpl_ultimopiano()\n",
    "    ultimo=T(3)(17.5)(ultimo)\n",
    "    tetto=creaCombinationRoof()\n",
    "    tetto2=creaTetto(tetto)\n",
    "    tetto2=T(3)(19.2)(tetto2)\n",
    "    tetto2=R([1,2])(PI/2)(tetto2)\n",
    "    tetto2=T(1)(13.1)(tetto2)\n",
    "    tetto2=T(2)(4.2)(tetto2)\n",
    "    tetto2=S(1)(1.45)(tetto2)\n",
    "    tetto2=S(2)(2.1)(tetto2)\n",
    "    casa=STRUCT([primo, secondo, terzo, quarto, quinto,ultimo,tetto2])\n",
    "    \n",
    "    return casa"
   ]
  },
  {
   "cell_type": "code",
   "execution_count": 17,
   "metadata": {
    "collapsed": true
   },
   "outputs": [],
   "source": [
    "def piani3():\n",
    "    primo= ggpl_MyHouse()\n",
    "    secondo =ggpl_MyHouse()\n",
    "    secondo=T(3)(3.5)(secondo)\n",
    "    ultimo=ggpl_ultimopiano()\n",
    "    ultimo=T(3)(7)(ultimo)\n",
    "    tetto=creaCombinationRoof()\n",
    "    tetto2=creaTetto(tetto)\n",
    "    tetto2=T(3)(8.7)(tetto2)\n",
    "    tetto2=R([1,2])(PI/2)(tetto2)\n",
    "    tetto2=T(1)(13.1)(tetto2)\n",
    "    tetto2=T(2)(4.2)(tetto2)\n",
    "    tetto2=S(1)(1.45)(tetto2)\n",
    "    tetto2=S(2)(2.1)(tetto2)\n",
    "    casa=STRUCT([primo, secondo,ultimo,tetto2])\n",
    "    \n",
    "    return casa"
   ]
  },
  {
   "cell_type": "code",
   "execution_count": 18,
   "metadata": {
    "collapsed": true
   },
   "outputs": [],
   "source": [
    "def singoloN():\n",
    "    nord=piani()\n",
    "    return nord"
   ]
  },
  {
   "cell_type": "code",
   "execution_count": 19,
   "metadata": {
    "collapsed": true
   },
   "outputs": [],
   "source": [
    "def singoloS():\n",
    "    sud=piani()\n",
    "    sud=R([1,2])(PI/2)(sud)\n",
    "    sud=R([1,2])(PI/2)(sud)\n",
    "    sud=T(1)(20.3)(sud)\n",
    "    sud=T(2)(43.7)(sud)\n",
    "    return sud"
   ]
  },
  {
   "cell_type": "code",
   "execution_count": null,
   "metadata": {
    "collapsed": false
   },
   "outputs": [],
   "source": [
    "def doppio():\n",
    "    nord=piani()\n",
    "    sud=piani()\n",
    "    sud=R([1,2])(PI/2)(sud)\n",
    "    sud=R([1,2])(PI/2)(sud)\n",
    "    sud=T(1)(20.3)(sud)\n",
    "    sud=T(2)(43.7)(sud)\n",
    "    struct=STRUCT([nord,sud])\n",
    "    return struct"
   ]
  },
  {
   "cell_type": "code",
   "execution_count": null,
   "metadata": {
    "collapsed": false
   },
   "outputs": [],
   "source": [
    "VIEW(doppio())"
   ]
  }
 ],
 "metadata": {
  "anaconda-cloud": {},
  "kernelspec": {
   "display_name": "Python [default]",
   "language": "python",
   "name": "python2"
  },
  "language_info": {
   "codemirror_mode": {
    "name": "ipython",
    "version": 2
   },
   "file_extension": ".py",
   "mimetype": "text/x-python",
   "name": "python",
   "nbconvert_exporter": "python",
   "pygments_lexer": "ipython2",
   "version": "2.7.12"
  }
 },
 "nbformat": 4,
 "nbformat_minor": 1
}
