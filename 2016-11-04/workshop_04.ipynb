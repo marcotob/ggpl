{
 "cells": [
  {
   "cell_type": "code",
   "execution_count": 1,
   "metadata": {
    "collapsed": false
   },
   "outputs": [
    {
     "name": "stdout",
     "output_type": "stream",
     "text": [
      "Evaluating fenvs.py..\n",
      "...fenvs.py imported in 0.007186 seconds\n"
     ]
    }
   ],
   "source": [
    "from pyplasm import *"
   ]
  },
  {
   "cell_type": "code",
   "execution_count": 2,
   "metadata": {
    "collapsed": false
   },
   "outputs": [],
   "source": [
    "def creaTetto(tettoSolido):\n",
    "    listavertici1=UKPOL(tettoSolido)\n",
    "    tettoPiano=OFFSET([0.2,0.2,-0.2])(tettoSolido)\n",
    "    tettoPiano=T(3)(0.2)(tettoPiano)\n",
    "    tettoPiano=COLOR(RED)(tettoPiano)\n",
    "    scheletro=SKEL_1(tettoSolido)\n",
    "    #tettoSolido=OFFSET([0.2,0,0])(tettoSolido)\n",
    "    \n",
    "    '''for i in range(len(vertici)-1):\n",
    "        elemento = vertici[i]\n",
    "        print elemento\n",
    "        x=elemento[0]\n",
    "        y=elemento[1]\n",
    "        z=elemento[2]\n",
    "        j=i+1\n",
    "        for j in range(len(vertici)-1):\n",
    "            elemento2=vertici[j]\n",
    "            print elemento2\n",
    "            x2=elemento2[0]\n",
    "            y2=elemento2[1]\n",
    "            z2=elemento2[2]\n",
    "            if x==x2:\n",
    "                if y==y2:\n",
    "                    if z==z2:\n",
    "                       vertici.remove(vertici[j])\n",
    "    print \"dopo\"\n",
    "    print vertici'''\n",
    "    \n",
    "    scheletroSpesso=OFFSET([0.2,0.2,-0.5])(scheletro)\n",
    "    scheletroSpesso=COLOR(BROWN)(scheletroSpesso)\n",
    "    finale=STRUCT([scheletroSpesso,tettoPiano])\n",
    "    VIEW(finale)"
   ]
  },
  {
   "cell_type": "code",
   "execution_count": 3,
   "metadata": {
    "collapsed": false
   },
   "outputs": [],
   "source": [
    "def creaCombinationRoof():\n",
    "    tettoFacce=MKPOL([[[0,0,0],[6,0,0],[0,12,0],[6,12,0],[2,3,2],[2,9,2],[4,3,2],[4,9,2],[3,6,3.5]],[[1,3,5,6],[3,4,6,8],[4,2,8,7],[2,1,5,7],[5,6,9],[6,8,9],[8,7,9],[7,5,9]],1])\n",
    "    tettoFacce=OFFSET([0,0,0.01])(tettoFacce)\n",
    "    return tettoFacce"
   ]
  },
  {
   "cell_type": "code",
   "execution_count": null,
   "metadata": {
    "collapsed": true
   },
   "outputs": [],
   "source": [
    "def creaGambrelRoof():\n",
    "    tettoFacce=MKPOL([[[0,0,0],[0,16,0],[4,0,3],[4,16,3],[6,0,4],[6,16,4],[8,0,3],[8,16,3],[12,0,0],[12,16,0]],[[1,2,3,4],[3,4,5,6],[5,6,7,8],[7,8,9,10]],1])\n",
    "    tettoFacce=OFFSET([0,0,0.01])(tettoFacce)\n",
    "    return tettoFacce"
   ]
  },
  {
   "cell_type": "code",
   "execution_count": null,
   "metadata": {
    "collapsed": false
   },
   "outputs": [],
   "source": [
    "#tettoCombination=creaCombinationRoof()\n",
    "tettoGambrel=creaGambrelRoof()\n",
    "#VIEW(tettoGambrel)\n",
    "#creaTetto(tettoCombination)\n",
    "creaTetto(tettoGambrel)\n"
   ]
  },
  {
   "cell_type": "code",
   "execution_count": null,
   "metadata": {
    "collapsed": true
   },
   "outputs": [],
   "source": []
  }
 ],
 "metadata": {
  "anaconda-cloud": {},
  "kernelspec": {
   "display_name": "Python [default]",
   "language": "python",
   "name": "python2"
  },
  "language_info": {
   "codemirror_mode": {
    "name": "ipython",
    "version": 2
   },
   "file_extension": ".py",
   "mimetype": "text/x-python",
   "name": "python",
   "nbconvert_exporter": "python",
   "pygments_lexer": "ipython2",
   "version": "2.7.12"
  }
 },
 "nbformat": 4,
 "nbformat_minor": 1
}
