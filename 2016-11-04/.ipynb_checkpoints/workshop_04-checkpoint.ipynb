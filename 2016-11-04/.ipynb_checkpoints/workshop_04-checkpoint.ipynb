{
 "cells": [
  {
   "cell_type": "code",
   "execution_count": null,
   "metadata": {
    "collapsed": false
   },
   "outputs": [],
   "source": [
    "from pyplasm import *"
   ]
  },
  {
   "cell_type": "code",
   "execution_count": null,
   "metadata": {
    "collapsed": false
   },
   "outputs": [],
   "source": [
    "def creaTetto(tettoSolido):\n",
    "    listavertici1=UKPOL(tettoSolido)\n",
    "    scheletro=SKEL_1(tettoSolido)\n",
    "    listavertici=UKPOL(scheletro)\n",
    "    '''for i in range(len(listavertici)-1):\n",
    "        j=i+1\n",
    "        for j in range(len(listavertici)-1):\n",
    "            if set(listavertici[i])==set(listavertici[j]):\n",
    "                listavertici.remove(listavertici[j])'''\n",
    "    print listavertici\n",
    "    scheletroSpesso=OFFSET([0.2,0.2,0.5])(scheletro)\n",
    "    #VIEW(scheletroSpesso)"
   ]
  },
  {
   "cell_type": "code",
   "execution_count": null,
   "metadata": {
    "collapsed": false
   },
   "outputs": [],
   "source": [
    "#tettoSolido=MKPOL([[[0,0,0],[6,0,0],[0,12,0],[6,12,0],[2,3,2],[2,9,2],[4,3,2],[4,9,2],[3,6,3.5]],[[1,2,3,4,5,6,7,8],[5,6,7,8,9]],1])\n",
    "tettoSolido=MKPOL([[[0,0,0],[6,0,0],[0,12,0],[6,12,0],[2,3,2],[2,9,2],[4,3,2],[4,9,2],[3,6,3.5]],[[1,2,3,4,5,6,7,8]],1])\n",
    "tettoSolido2=MKPOL([[[0,0,0],[6,0,0],[0,12,0],[6,12,0],[2,3,2],[2,9,2],[4,3,2],[4,9,2],[3,6,3.5]],[[5,6,7,8,9]],1])\n",
    "tetto=UNION([tettoSolido,tettoSolido2])\n",
    "#VIEW(tettoSolido2)\n",
    "creaTetto(tettoSolido2)"
   ]
  }
 ],
 "metadata": {
  "anaconda-cloud": {},
  "kernelspec": {
   "display_name": "Python [default]",
   "language": "python",
   "name": "python2"
  },
  "language_info": {
   "codemirror_mode": {
    "name": "ipython",
    "version": 2
   },
   "file_extension": ".py",
   "mimetype": "text/x-python",
   "name": "python",
   "nbconvert_exporter": "python",
   "pygments_lexer": "ipython2",
   "version": "2.7.12"
  }
 },
 "nbformat": 4,
 "nbformat_minor": 1
}
