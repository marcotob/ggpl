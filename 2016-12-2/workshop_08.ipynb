{
 "cells": [
  {
   "cell_type": "markdown",
   "metadata": {},
   "source": [
    "# My_House\n"
   ]
  },
  {
   "cell_type": "code",
   "execution_count": 1,
   "metadata": {
    "collapsed": false
   },
   "outputs": [
    {
     "name": "stdout",
     "output_type": "stream",
     "text": [
      "Evaluating fenvs.py..\n",
      "...fenvs.py imported in 0.006131 seconds\n"
     ]
    }
   ],
   "source": [
    "from pyplasm import*\n",
    "import csv"
   ]
  },
  {
   "cell_type": "code",
   "execution_count": 2,
   "metadata": {
    "collapsed": true
   },
   "outputs": [],
   "source": [
    "def listFromString(stringa):\n",
    "    lista=stringa.split(\",\")\n",
    "    lista2=[]\n",
    "    for elem in lista:\n",
    "        lista2.append(float(elem)/10.)  \n",
    "    return lista2"
   ]
  },
  {
   "cell_type": "code",
   "execution_count": 3,
   "metadata": {
    "collapsed": true
   },
   "outputs": [],
   "source": [
    "def ggpl_svgPorte(file):\n",
    "    planimetria=QUOTE([0])\n",
    "    with open(file, 'rb') as csvFile:\n",
    "        reader = csv.DictReader(csvFile)\n",
    "        righe=csv.reader(csvFile, delimiter=' ',quotechar='|')\n",
    "        for riga in righe:\n",
    "            l=listFromString(riga[0])\n",
    "            linea=MKPOL([[[l[0],l[1],0],[l[2],l[3],0]],[[1,2]],[1]])\n",
    "            planimetria=STRUCT([planimetria,linea])\n",
    "    planimetria=OFFSET([0.5,0.5,2.2])(planimetria)\n",
    "    planimetria=OFFSET([0.5,0,0])(planimetria)\n",
    "    planimetria=OFFSET([-0.5,-0.2,0])(planimetria)\n",
    "    return planimetria "
   ]
  },
  {
   "cell_type": "code",
   "execution_count": 4,
   "metadata": {
    "collapsed": true
   },
   "outputs": [],
   "source": [
    "def ggpl_svgFinestre(file):\n",
    "    planimetria=QUOTE([0])\n",
    "    with open(file, 'rb') as csvFile:\n",
    "        reader = csv.DictReader(csvFile)\n",
    "        righe=csv.reader(csvFile, delimiter=' ',quotechar='|')\n",
    "        for riga in righe:\n",
    "            l=listFromString(riga[0])\n",
    "            linea=MKPOL([[[l[0],l[1],0],[l[2],l[3],0]],[[1,2]],[1]])\n",
    "            planimetria=STRUCT([planimetria,linea])\n",
    "    planimetria=OFFSET([0.5,0.5,1.5])(planimetria)\n",
    "    #planimetria=OFFSET([0.5,0.5,0])(planimetria)\n",
    "    return planimetria "
   ]
  },
  {
   "cell_type": "code",
   "execution_count": 5,
   "metadata": {
    "collapsed": true
   },
   "outputs": [],
   "source": [
    "def ggpl_svgParetiI(file):\n",
    "    planimetria=QUOTE([0])\n",
    "    with open(file, 'rb') as csvFile:\n",
    "        reader = csv.DictReader(csvFile)\n",
    "        righe=csv.reader(csvFile, delimiter=' ',quotechar='|')\n",
    "        for riga in righe:\n",
    "            l=listFromString(riga[0])\n",
    "            linea=MKPOL([[[l[0],l[1],0],[l[2],l[3],0]],[[1,2]],[1]])\n",
    "            planimetria=STRUCT([planimetria,linea])\n",
    "    planimetria=OFFSET([0.15,0.15,3.5])(planimetria)\n",
    "    planimetria=TEXTURE([\"/Users/caosnumerico/Desktop/Grafica/progetti/development/ggpl/2016-12-2/parete.jpg\",True,False,1,1,0,100,2])(planimetria)\n",
    "    return planimetria "
   ]
  },
  {
   "cell_type": "code",
   "execution_count": 6,
   "metadata": {
    "collapsed": false
   },
   "outputs": [],
   "source": [
    "def ggpl_svgFacciataE(file):\n",
    "    facciata=QUOTE([0])\n",
    "    c = 0\n",
    "    with open(file, 'rb') as csvFile:\n",
    "        reader = csv.DictReader(csvFile)\n",
    "        righe=csv.reader(csvFile, delimiter=' ',quotechar='|')\n",
    "        for riga in righe:\n",
    "            if c <= 1:\n",
    "                l1 = listFromString(riga[0])\n",
    "                linea1 = MKPOL([[[l1[0],l1[1],0],[l1[2],l1[3],0]],[[1,2]],[1]])\n",
    "                facciata=STRUCT([facciata,linea1])\n",
    "            else: break\n",
    "            c += 1\n",
    "    facciata=OFFSET([0.15,0.15,3.5])(facciata)\n",
    "    #planimetria=TEXTURE([\"/Users/caosnumerico/Desktop/Grafica/progetti/development/ggpl/2016-12-2/parete.jpg\",True,False,1,1,0,100,2])(planimetria)\n",
    "    return facciata"
   ]
  },
  {
   "cell_type": "code",
   "execution_count": 7,
   "metadata": {
    "collapsed": true
   },
   "outputs": [],
   "source": [
    "def ggpl_svgParetiE(file):\n",
    "    planimetria=QUOTE([0])\n",
    "    with open(file, 'rb') as csvFile:\n",
    "        reader = csv.DictReader(csvFile)\n",
    "        righe=csv.reader(csvFile, delimiter=' ',quotechar='|')\n",
    "        for riga in righe:\n",
    "            l=listFromString(riga[0])\n",
    "            linea=MKPOL([[[l[0],l[1],0],[l[2],l[3],0]],[[1,2]],[1]])\n",
    "            #linea=TEXTURE([\"/Users/caosnumerico/Desktop/Grafica/progetti/development/ggpl/2016-12-2/muro.jpg\",True,False,1,1,0,100,2])(linea)\n",
    "            planimetria=STRUCT([planimetria,linea])\n",
    "    planimetria=OFFSET([0.3,0.3,3.5])(planimetria)\n",
    "    return planimetria"
   ]
  },
  {
   "cell_type": "code",
   "execution_count": 8,
   "metadata": {
    "collapsed": true
   },
   "outputs": [],
   "source": [
    "def creaPavimento(x,y,z):\n",
    "    pavimento=MKPOL([[[x+4.4,y+28.5,z],[x+64.1,y+28.5,z],[x+4.4,y+84,z],[x+64.1,y+84,z]],[[1,2,3,4]],[1]])\n",
    "    pavimento=OFFSET([0,0,-0.2])(pavimento)\n",
    "    return pavimento"
   ]
  },
  {
   "cell_type": "code",
   "execution_count": 9,
   "metadata": {
    "collapsed": true
   },
   "outputs": [],
   "source": [
    "def creaPavimento2(x,y,z):\n",
    "    pavimento=MKPOL([[[x+64.1,y+28.5,z],[x+69.7,y+28.5,z],[x+64.1,y+60.8,z],[x+69.7,y+60.8,z]],[[1,2,3,4]],[1]])\n",
    "    pavimento=OFFSET([0,0,-0.2])(pavimento)\n",
    "    return pavimento"
   ]
  },
  {
   "cell_type": "code",
   "execution_count": 10,
   "metadata": {
    "collapsed": true
   },
   "outputs": [],
   "source": [
    "def creaPavimento3(x,y,z):\n",
    "    pavimento=MKPOL([[[x+27.2,y+28.7,z],[x+69.7,y+28.7,z],[x+27.2,y+16.1,z],[x+69.7,y+16.1,z]],[[1,2,3,4]],[1]])\n",
    "    pavimento=OFFSET([0,0,-0.2])(pavimento)\n",
    "    return pavimento"
   ]
  },
  {
   "cell_type": "code",
   "execution_count": null,
   "metadata": {
    "collapsed": false
   },
   "outputs": [],
   "source": [
    "def ggpl_MyHouse():\n",
    "    finestre=ggpl_svgFinestre(\"finestre.lines\")\n",
    "    porte=ggpl_svgPorte(\"porte.lines\")\n",
    "    paretiE=ggpl_svgParetiE(\"pareti_esterne.lines\")\n",
    "    paretiI=ggpl_svgParetiI(\"pareti_interne.lines\")\n",
    "    finestre=T(3)(1)(finestre)\n",
    "    pavimento= creaPavimento(0,0,0)\n",
    "    pavimento=TEXTURE([\"/Users/caosnumerico/Desktop/Grafica/progetti/development/ggpl/2016-12-2/parquet2.jpg\",True,False,1,1,0,10,10])(pavimento)\n",
    "    pavimento2= creaPavimento2(0,0,0)\n",
    "    pavimento2=TEXTURE([\"/Users/caosnumerico/Desktop/Grafica/progetti/development/ggpl/2016-12-2/parquet2.jpg\",True,False,1,1,0,6,2])(pavimento2)\n",
    "    pavimento3= creaPavimento3(0,0,0)\n",
    "    pavimento3=TEXTURE([\"/Users/caosnumerico/Desktop/Grafica/progetti/development/ggpl/2016-12-2/parquet2.jpg\",True,False,1,1,0,10,4])(pavimento3)\n",
    "    pareti=STRUCT([paretiE,paretiI])\n",
    "    finestre=TEXTURE([\"/Users/caosnumerico/Desktop/Grafica/progetti/development/ggpl/2016-12-2/vetro3.png\",True,False,1,1,0,1,1])(finestre)\n",
    "    #porte=TEXTURE([\"/Users/caosnumerico/Desktop/Grafica/progetti/development/ggpl/2016-12-2/porta2.jpg\",True,False,1,1,0,1,1])(porte)\n",
    "    \n",
    "    #pareti_porte = DIFFERENCE([pareti,porte]) \n",
    "    #pareti_porte=TEXTURE([\"/Users/caosnumerico/Desktop/Grafica/progetti/development/ggpl/2016-12-2/muro.jpg\",True,False,1,1,0,1,2])(pareti_porte)\n",
    "    pareti_finestre=DIFFERENCE([pareti,finestre])\n",
    "    pareti_finestre_porte=DIFFERENCE([pareti_finestre,porte])\n",
    "    \n",
    "    INTERNE=DIFFERENCE([paretiI,porte])\n",
    "    INTERNE=TEXTURE([\"/Users/caosnumerico/Desktop/Grafica/progetti/development/ggpl/2016-12-2/parete.jpg\",True,False,1,1,0,100,4])(INTERNE)\n",
    "    ESTERNE=DIFFERENCE([paretiE,porte])\n",
    "    ESTERNE=DIFFERENCE([ESTERNE,finestre])\n",
    "    ESTERNE=TEXTURE([\"/Users/caosnumerico/Desktop/Grafica/progetti/development/ggpl/2016-12-2/muro.jpg\",True,False,1,1,PI/8,100,4])(ESTERNE)\n",
    "    PARETI=STRUCT([INTERNE,ESTERNE])\n",
    "    pareti_finestre_porte=STRUCT([PARETI,pavimento,pavimento2,pavimento3,finestre])\n",
    "    #pareti_finestre_porte=STRUCT([pareti_finestre_porte,pavimento,pavimento2,pavimento3])\n",
    "    #return pareti_finestre_porte \n",
    "    return pareti_finestre_porte\n",
    "\n",
    "\n",
    "    "
   ]
  },
  {
   "cell_type": "code",
   "execution_count": null,
   "metadata": {
    "collapsed": false
   },
   "outputs": [],
   "source": [
    "VIEW(ggpl_MyHouse())\n",
    "#VIEW(ggpl_svgParetiE(\"pareti_esterne.lines\"))"
   ]
  }
 ],
 "metadata": {
  "anaconda-cloud": {},
  "kernelspec": {
   "display_name": "Python [default]",
   "language": "python",
   "name": "python2"
  },
  "language_info": {
   "codemirror_mode": {
    "name": "ipython",
    "version": 2
   },
   "file_extension": ".py",
   "mimetype": "text/x-python",
   "name": "python",
   "nbconvert_exporter": "python",
   "pygments_lexer": "ipython2",
   "version": "2.7.12"
  }
 },
 "nbformat": 4,
 "nbformat_minor": 1
}
