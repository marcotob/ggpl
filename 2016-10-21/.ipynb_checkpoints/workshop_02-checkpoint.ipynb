{
 "cells": [
  {
   "cell_type": "markdown",
   "metadata": {},
   "source": [
    "Link all'immagine esempio:\n",
    "*\t[_Struttura in cemento armato_](http://www.orsomarsoblues.it/wp-content/uploads/2016/09/non2.jpg)"
   ]
  },
  {
   "cell_type": "code",
   "execution_count": 12,
   "metadata": {
    "collapsed": false
   },
   "outputs": [],
   "source": [
    "from pyplasm import*\n",
    "import csv\n",
    "from workshop_01 import*"
   ]
  },
  {
   "cell_type": "code",
   "execution_count": 13,
   "metadata": {
    "collapsed": false
   },
   "outputs": [],
   "source": [
    "def floatFromString(stringa):\n",
    "    lista=[]\n",
    "    for s in stringa:\n",
    "        l=float(s)\n",
    "        lista.append(l)\n",
    "    return lista"
   ]
  },
  {
   "cell_type": "code",
   "execution_count": 14,
   "metadata": {
    "collapsed": true
   },
   "outputs": [],
   "source": [
    "def ggpl_bone_structure(file_name):\n",
    "    with open(file_name,'rb') as csvFile:\n",
    "        reader = csv.DictReader(csvFile)\n",
    "        scheletro=QUOTE([0])\n",
    "        for  row in reader:\n",
    "            riga=row['telaio']\n",
    "            lista=riga.split(';')\n",
    "            \n",
    "            vettori = floatFromString(lista[0].split(','))\n",
    "            sezioni = floatFromString(lista[1].split(','))\n",
    "            distanze = floatFromString(lista[2].split(','))\n",
    "            altezze = floatFromString(lista[3].split(','))\n",
    "            \n",
    "            telaio = fun(sezioni[0],sezioni[1],sezioni[2],sezioni[3],distanze,altezze)\n",
    "            scheletro = STRUCT([scheletro,T([1,2,3])([vettori[0],vettori[1],vettori[2]])(telaio)])\n",
    "    return scheletro"
   ]
  },
  {
   "cell_type": "code",
   "execution_count": 15,
   "metadata": {
    "collapsed": false
   },
   "outputs": [
    {
     "data": {
      "text/plain": [
       "<pyplasm.xgepy.Hpc; proxy of <Swig Object of type 'std::shared_ptr< Hpc > *' at 0x10590b360> >"
      ]
     },
     "execution_count": 15,
     "metadata": {},
     "output_type": "execute_result"
    }
   ],
   "source": [
    "VIEW(ggpl_bone_structure(\"frame_data_430379.csv\"))"
   ]
  },
  {
   "cell_type": "code",
   "execution_count": null,
   "metadata": {
    "collapsed": true
   },
   "outputs": [],
   "source": []
  }
 ],
 "metadata": {
  "anaconda-cloud": {},
  "kernelspec": {
   "display_name": "Python [default]",
   "language": "python",
   "name": "python2"
  },
  "language_info": {
   "codemirror_mode": {
    "name": "ipython",
    "version": 2
   },
   "file_extension": ".py",
   "mimetype": "text/x-python",
   "name": "python",
   "nbconvert_exporter": "python",
   "pygments_lexer": "ipython2",
   "version": "2.7.12"
  }
 },
 "nbformat": 4,
 "nbformat_minor": 1
}
