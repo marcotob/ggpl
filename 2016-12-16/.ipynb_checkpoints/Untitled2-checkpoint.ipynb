{
 "cells": [
  {
   "cell_type": "code",
   "execution_count": null,
   "metadata": {
    "collapsed": false
   },
   "outputs": [
    {
     "name": "stdout",
     "output_type": "stream",
     "text": [
      "Evaluating fenvs.py..\n",
      "...fenvs.py imported in 0.009931 seconds\n"
     ]
    },
    {
     "name": "stderr",
     "output_type": "stream",
     "text": [
      "/Users/caosnumerico/anaconda2/lib/python2.7/site-packages/larlib/larstruct.py:233: FutureWarning: comparison to `None` will result in an elementwise object comparison in the future.\n",
      "  self.body = [item for item in data if item != None]\n"
     ]
    },
    {
     "name": "stdout",
     "output_type": "stream",
     "text": [
      "[[[0.0, 5.0], [0.0, 0.0], [7.0, 5.0], [2.384185791015625e-07, 5.0], [7.0, 10.0], [7.0, 5.0], [12.0, 10.0], [7.0, 10.0], [12.0, 10.0], [12.0, 0.0], [12.0, 0.0], [0.0, 0.0]], [[2, 1], [4, 3], [6, 5], [8, 7], [10, 9], [12, 11]], [[1]]]\n",
      "([0.0, 0.0], [0.0, 5.0])\n"
     ]
    }
   ],
   "source": [
    "from larlib import *\n",
    "from pyplasm import *\n",
    "\n",
    "alpha = 45\n",
    "piano = MKPOL([[[0,0],[0,5],[7,5],[7,10],[12,10],[12,0]],[[1,2],[2,3],[3,4],[4,5],[5,6],[6,1]],None])\n",
    "\n",
    "def retta(x1,y1,x2,y2):\n",
    "    a = y2-y1\n",
    "    b = x1-x2\n",
    "    c = x2*y1-y2*x1\n",
    "    return [a,b,c]\n",
    "\n",
    "def falda(p1,p2,alpha):\n",
    "    \n",
    "    r = MKPOL([[p1,p2],[[1,2]],None])\n",
    "    #VIEW(r)\n",
    "    \n",
    "    piano = PROD([r,QUOTE([2])])\n",
    "    #VIEW(piano)\n",
    "    \n",
    "    #a,b,c = retta(p1[0],p1[1],p2[0],p2[1])\n",
    "    #print(a,b,c)\n",
    "    if p1[0] == p2[0]:\n",
    "        x = p1[0]\n",
    "        piano = STRUCT([T(1)(-x),piano])\n",
    "        print(p1,p2)\n",
    "        if p1[1]>p2[1]:\n",
    "            falda = STRUCT([ROTN([-PI/4,[0,1,0]]),piano])\n",
    "        else:\n",
    "            falda = STRUCT([ROTN([PI/4,[0,1,0]]),piano])\n",
    "        falda = STRUCT([T(1)(x),falda])\n",
    "    elif p1[1] == p2[1]:\n",
    "        y = p1[1]\n",
    "        piano = STRUCT([T(2)(-y),piano])\n",
    "        falda = STRUCT([ROTN([PI/4,[1,0,0]]),piano])\n",
    "        falda = STRUCT([T(2)(y),falda])\n",
    "    #falda = STRUCT([ROTN([PI/4,[a,b,c]]),piano])\n",
    "    return falda\n",
    "    \n",
    "#falda([0,0],[0,5],alpha)\n",
    "\n",
    "\n",
    "def roofBuilder(pol,alpha):\n",
    "    p = UKPOL(piano)\n",
    "    #print(p)\n",
    "    a = PROD([QUOTE([0]),QUOTE([0])])\n",
    "    for i in p[1]:\n",
    "        p1 = p[0][i[0]-1]\n",
    "        p2 = p[0][i[1]-1]\n",
    "        a = STRUCT([a,falda(p1,p2,alpha)])\n",
    "        VIEW(a)\n",
    "    \n",
    "roofBuilder(piano,alpha)"
   ]
  }
 ],
 "metadata": {
  "anaconda-cloud": {},
  "kernelspec": {
   "display_name": "Python [default]",
   "language": "python",
   "name": "python2"
  },
  "language_info": {
   "codemirror_mode": {
    "name": "ipython",
    "version": 2
   },
   "file_extension": ".py",
   "mimetype": "text/x-python",
   "name": "python",
   "nbconvert_exporter": "python",
   "pygments_lexer": "ipython2",
   "version": "2.7.12"
  }
 },
 "nbformat": 4,
 "nbformat_minor": 1
}
