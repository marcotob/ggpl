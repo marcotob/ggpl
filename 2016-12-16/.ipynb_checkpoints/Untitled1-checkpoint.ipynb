{
 "cells": [
  {
   "cell_type": "code",
   "execution_count": 2,
   "metadata": {
    "collapsed": false
   },
   "outputs": [],
   "source": [
    "from pyplasm import *"
   ]
  },
  {
   "cell_type": "code",
   "execution_count": null,
   "metadata": {
    "collapsed": true
   },
   "outputs": [],
   "source": [
    "def CYLINDER(r,h):\n",
    "    dom1 = INTERVALS(1)(40)\n",
    "    dom2 = INTERVALS(2*PI)(40)\n",
    "    rot_domain = PROD([dom1,dom2])\n",
    "    p1 = [[0,0,0],[r,0,0]]\n",
    "    p2 = [[r,0,0],[r,0,h]]\n",
    "    p3 = [[r,0,h],[0,0,h]]\n",
    "    c1 = BEZIER(S1)(p1)\n",
    "    c2 = BEZIER(S1)(p2)\n",
    "    c3 = BEZIER(S1)(p3)\n",
    "    s1 = MAP(ROTATIONALSURFACE(c1))(rot_domain)\n",
    "    s2 = MAP(ROTATIONALSURFACE(c2))(rot_domain)\n",
    "    s3 = MAP(ROTATIONALSURFACE(c3))(rot_domain)\n",
    "    cylinder = STRUCT([s1,s2,s3])\n",
    "    return cylinder"
   ]
  },
  {
   "cell_type": "code",
   "execution_count": 3,
   "metadata": {
    "collapsed": false
   },
   "outputs": [
    {
     "ename": "TypeError",
     "evalue": "MY_CYLINDER() takes exactly 1 argument (2 given)",
     "output_type": "error",
     "traceback": [
      "\u001b[0;31m---------------------------------------------------------------------------\u001b[0m",
      "\u001b[0;31mTypeError\u001b[0m                                 Traceback (most recent call last)",
      "\u001b[0;32m<ipython-input-3-64dda9c3ec03>\u001b[0m in \u001b[0;36m<module>\u001b[0;34m()\u001b[0m\n\u001b[1;32m      6\u001b[0m \u001b[0mblock\u001b[0m \u001b[0;34m=\u001b[0m \u001b[0mCOLOR\u001b[0m\u001b[0;34m(\u001b[0m\u001b[0;34m[\u001b[0m\u001b[0;36m0.5\u001b[0m\u001b[0;34m,\u001b[0m\u001b[0;36m0.5\u001b[0m\u001b[0;34m,\u001b[0m\u001b[0;36m0.5\u001b[0m\u001b[0;34m]\u001b[0m\u001b[0;34m)\u001b[0m\u001b[0;34m(\u001b[0m\u001b[0mCUBOID\u001b[0m\u001b[0;34m(\u001b[0m\u001b[0;34m[\u001b[0m\u001b[0;36m5\u001b[0m\u001b[0;34m,\u001b[0m\u001b[0;36m7.5\u001b[0m\u001b[0;34m,\u001b[0m\u001b[0;36m5\u001b[0m\u001b[0;34m]\u001b[0m\u001b[0;34m)\u001b[0m\u001b[0;34m)\u001b[0m\u001b[0;34m\u001b[0m\u001b[0m\n\u001b[1;32m      7\u001b[0m \u001b[0;34m\u001b[0m\u001b[0m\n\u001b[0;32m----> 8\u001b[0;31m \u001b[0mbasecyl\u001b[0m \u001b[0;34m=\u001b[0m \u001b[0mT\u001b[0m\u001b[0;34m(\u001b[0m\u001b[0;34m[\u001b[0m\u001b[0;36m1\u001b[0m\u001b[0;34m,\u001b[0m\u001b[0;36m2\u001b[0m\u001b[0;34m,\u001b[0m\u001b[0;36m3\u001b[0m\u001b[0;34m]\u001b[0m\u001b[0;34m)\u001b[0m\u001b[0;34m(\u001b[0m\u001b[0;34m[\u001b[0m\u001b[0;36m2.5\u001b[0m\u001b[0;34m,\u001b[0m\u001b[0;34m-\u001b[0m\u001b[0;36m2\u001b[0m\u001b[0;34m,\u001b[0m\u001b[0;34m-\u001b[0m\u001b[0;36m1.5\u001b[0m\u001b[0;34m]\u001b[0m\u001b[0;34m)\u001b[0m\u001b[0;34m(\u001b[0m\u001b[0mR\u001b[0m\u001b[0;34m(\u001b[0m\u001b[0;34m[\u001b[0m\u001b[0;36m2\u001b[0m\u001b[0;34m,\u001b[0m\u001b[0;36m3\u001b[0m\u001b[0;34m]\u001b[0m\u001b[0;34m)\u001b[0m\u001b[0;34m(\u001b[0m\u001b[0mPI\u001b[0m\u001b[0;34m/\u001b[0m\u001b[0;36m2\u001b[0m\u001b[0;34m)\u001b[0m\u001b[0;34m(\u001b[0m\u001b[0mCOLOR\u001b[0m\u001b[0;34m(\u001b[0m\u001b[0;34m[\u001b[0m\u001b[0;36m1\u001b[0m\u001b[0;34m,\u001b[0m\u001b[0;36m1\u001b[0m\u001b[0;34m,\u001b[0m\u001b[0;36m0\u001b[0m\u001b[0;34m]\u001b[0m\u001b[0;34m)\u001b[0m\u001b[0;34m(\u001b[0m\u001b[0mCYLINDER\u001b[0m\u001b[0;34m(\u001b[0m\u001b[0;36m4\u001b[0m\u001b[0;34m,\u001b[0m\u001b[0;36m0.5\u001b[0m\u001b[0;34m)\u001b[0m\u001b[0;34m)\u001b[0m\u001b[0;34m)\u001b[0m\u001b[0;34m)\u001b[0m\u001b[0;34m\u001b[0m\u001b[0m\n\u001b[0m\u001b[1;32m      9\u001b[0m \u001b[0;34m\u001b[0m\u001b[0m\n\u001b[1;32m     10\u001b[0m \u001b[0mp0\u001b[0m \u001b[0;34m=\u001b[0m \u001b[0;34m[\u001b[0m\u001b[0;34m[\u001b[0m\u001b[0;36m1.5\u001b[0m\u001b[0;34m,\u001b[0m\u001b[0;36m0\u001b[0m\u001b[0;34m,\u001b[0m\u001b[0;36m1.5\u001b[0m\u001b[0;34m]\u001b[0m\u001b[0;34m,\u001b[0m\u001b[0;34m[\u001b[0m\u001b[0;36m2\u001b[0m\u001b[0;34m,\u001b[0m\u001b[0;36m0\u001b[0m\u001b[0;34m,\u001b[0m\u001b[0;36m1.5\u001b[0m\u001b[0;34m]\u001b[0m\u001b[0;34m,\u001b[0m\u001b[0;34m[\u001b[0m\u001b[0;36m2\u001b[0m\u001b[0;34m,\u001b[0m\u001b[0;36m0\u001b[0m\u001b[0;34m,\u001b[0m\u001b[0;36m2\u001b[0m\u001b[0;34m]\u001b[0m\u001b[0;34m,\u001b[0m\u001b[0;34m[\u001b[0m\u001b[0;36m1.5\u001b[0m\u001b[0;34m,\u001b[0m\u001b[0;36m0\u001b[0m\u001b[0;34m,\u001b[0m\u001b[0;36m2\u001b[0m\u001b[0;34m]\u001b[0m\u001b[0;34m]\u001b[0m\u001b[0;34m\u001b[0m\u001b[0m\n",
      "\u001b[0;31mTypeError\u001b[0m: MY_CYLINDER() takes exactly 1 argument (2 given)"
     ]
    }
   ],
   "source": [
    "def fra():\n",
    "    Dom1D = INTERVALS(1)(20)\n",
    "    Dom2D = PROD([Dom1D,Dom1D])\n",
    "    rot_domain = PROD([INTERVALS(1)(20),INTERVALS(PI/2)(20)])\n",
    "    cc = 0.004\n",
    "\n",
    "    block = COLOR([0.5,0.5,0.5])(CUBOID([5,7.5,5]))\n",
    "\n",
    "    basecyl = T([1,2,3])([2.5,-2,-1.5])(R([2,3])(PI/2)(COLOR([1,1,0])(CYLINDER(4,0.5))))\n",
    "\n",
    "    p0 = [[1.5,0,1.5],[2,0,1.5],[2,0,2],[1.5,0,2]]\n",
    "    c0 = BEZIER(S1)(p0)\n",
    "    surf0 = MAP(ROTATIONALSURFACE(c0))(rot_domain)\n",
    "    p1 = [[1.5,0,1.5],[1,0,1.5],[1,0,2],[1.5,0,2]]\n",
    "    c1 = BEZIER(S1)(p1)\n",
    "    surf1 = MAP(ROTATIONALSURFACE(c1))(rot_domain)\n",
    "    p2 = [[1.5,-2,1.5],[2,-2,1.5],[2,-2,2],[1.5,-2,2]]\n",
    "    c2 = BEZIER(S1)(p2)\n",
    "    s2 = BEZIER(S2)([c0,c2])\n",
    "    surf2 = MAP(s2)(Dom2D)\n",
    "    p3 = [[1.5,-2,1.5],[1,-2,1.5],[1,-2,2],[1.5,-2,2]]\n",
    "    c3 = BEZIER(S1)(p3)\n",
    "    s3 = BEZIER(S2)([c1,c3])\n",
    "    surf3 = MAP(s3)(Dom2D)\n",
    "\n",
    "    cyltube = COLOR([30*cc,144*cc,255*cc])(T([1,2,3])([2.5,1.5,-0.1])(CYLINDER(0.7,0.25)))\n",
    "    tube1 = T([1])([0.7])(COLOR([30*cc,144*cc,255*cc])(R([1,3])(-PI/2)(STRUCT([surf0,surf1,surf2,surf3]))))\n",
    "\n",
    "    p4a = [[0,0,0],[-0.25,0.25,0],[1.5,0.25,0],[1.25,0,0]]\n",
    "    p4b = [[0,0,0],[-0.25,-0.25,0],[1.5,-0.25,0],[1.25,0,0]]\n",
    "    c4a = BEZIER(S1)(p4a)\n",
    "    c4b = BEZIER(S1)(p4b)\n",
    "    s4 = BEZIER(S2)([c4a,c4b])\n",
    "    surf4 = MAP(s4)(Dom2D)\n",
    "    p5a = [[0,0,0.25],[-0.25,0.25,0.25],[1.5,0.25,0.25],[1.25,0,0.25]]\n",
    "    p5b = [[0,0,0.25],[-0.25,-0.25,0.25],[1.5,-0.25,0.25],[1.25,0,0.25]]\n",
    "    c5a = BEZIER(S1)(p5a)\n",
    "    c5b = BEZIER(S1)(p5b)\n",
    "    s5 = BEZIER(S2)([c5a,c5b])\n",
    "    surf5 = MAP(s5)(Dom2D)\n",
    "    s6 = BEZIER(S2)([c4a,c5a])\n",
    "    surf6 = MAP(s6)(Dom2D)\n",
    "    s7 = BEZIER(S2)([c4b,c5b])\n",
    "    surf7 = MAP(s7)(Dom2D)\n",
    "    base = T([1,2,3])([2.5,6.5,-0.1])(S([1,2])([1.8,1.5])(R([1,2])(-PI/2)(STRUCT([surf4,surf5,surf6,surf7]))))\n",
    "    cyl = T([1,2,3])([2.5,5.5,0.1])(R([2,3])(-PI/3-PI/3.5)(CYLINDER(0.25,6)))\n",
    "\n",
    "    leg1 = COLOR([30*cc,144*cc,255*cc])(STRUCT([base,cyl,T([2,3])([11,3])(R([2,3])(-PI/2)(base))]))\n",
    "    leg2 = T([3])([5])(R([1,3])(-PI/2)(leg1))\n",
    "    leg3 = T([1,3])([5,5])(R([1,3])(-PI)(leg1))\n",
    "    leg4 = T([1])([5])(R([1,3])(-3*PI/2)(leg1))\n",
    "\n",
    "    table = STRUCT([block,basecyl,cyltube,tube1,leg1,leg2,leg3,leg4])\n",
    "\n",
    "    return table"
   ]
  },
  {
   "cell_type": "code",
   "execution_count": null,
   "metadata": {
    "collapsed": true
   },
   "outputs": [],
   "source": [
    "VIEW(fra())"
   ]
  }
 ],
 "metadata": {
  "kernelspec": {
   "display_name": "Python [default]",
   "language": "python",
   "name": "python2"
  },
  "language_info": {
   "codemirror_mode": {
    "name": "ipython",
    "version": 2
   },
   "file_extension": ".py",
   "mimetype": "text/x-python",
   "name": "python",
   "nbconvert_exporter": "python",
   "pygments_lexer": "ipython2",
   "version": "2.7.12"
  }
 },
 "nbformat": 4,
 "nbformat_minor": 1
}
