{
 "cells": [
  {
   "cell_type": "markdown",
   "metadata": {
    "collapsed": true
   },
   "source": [
    "# My_School_Forniture"
   ]
  },
  {
   "cell_type": "code",
   "execution_count": 1,
   "metadata": {
    "collapsed": false
   },
   "outputs": [
    {
     "name": "stdout",
     "output_type": "stream",
     "text": [
      "Evaluating fenvs.py..\n",
      "...fenvs.py imported in 0.007867 seconds\n"
     ]
    },
    {
     "name": "stderr",
     "output_type": "stream",
     "text": [
      "/Users/caosnumerico/anaconda2/lib/python2.7/site-packages/larlib/larstruct.py:233: FutureWarning: comparison to `None` will result in an elementwise object comparison in the future.\n",
      "  self.body = [item for item in data if item != None]\n"
     ]
    }
   ],
   "source": [
    "from pyplasm import *\n",
    "from larlib import*"
   ]
  },
  {
   "cell_type": "markdown",
   "metadata": {},
   "source": [
    "My_School_Forniture si propone di diventare un catalogo di forniture per scuole elementari e licei. Per il momento tutto il materiale ha forma semi-squadrata, ma in futuro si prevede di creare anche oggetti dalla forma più arrotondati.\n",
    "Attualmente a catalogo sono presenti i seguenti materiali:\n",
    "-ARMADIO A 2 ANTE;\n",
    "-BANCO SINGOLO;\n",
    "-BANCO DOPPIO;\n",
    "-CATTEDRA;\n",
    "SEDIA;\n",
    "SEDIA CON BRACCIOLI;\n",
    "LAVAGNA.\n",
    "Con il metodo creaForniture() si è dato infine modo di visualizzare un esempio di tutti gli oggetti con una loro possibile disposizione.\n"
   ]
  },
  {
   "cell_type": "code",
   "execution_count": 2,
   "metadata": {
    "collapsed": true
   },
   "outputs": [],
   "source": [
    "'''funzione che crea un banco da una sola postazione'''\n",
    "def creaBanco(x,y,z):\n",
    "        #struttura=MKPOL([[[x-0.1,y+0.4,z],[x+0.3,y+0.4,z],[x+0.3,y-0.4,z],[x-0.1,y-0.4,z],[x-0.1,y+0.4,z+0.65],[x+0.3,y+0.4,z+0.65],[x+0.3,y-0.4,z+0.65],[x-0.1,y-0.4,z+0.65]],[[1,5],[2,6],[3,7],[4,8],[5,6,7,8]],[1]])\n",
    "        struttura=MKPOL([[[x-0.4,y+0.3,z],[x+0.4,y+0.3,z],[x+0.4,y-0.1,z],[x-0.4,y-0.1,z],[x-0.4,y+0.3,z+0.65],[x+0.4,y+0.3,z+0.65],[x+0.4,y-0.1,z+0.65],[x-0.4,y-0.1,z+0.65]],[[1,5],[2,6],[3,7],[4,8],[5,6,7,8]],[1]])\n",
    "        scheletro=SKEL_1(struttura)\n",
    "        scheletroSpesso=OFFSET([0.03,0.03,0.03])(scheletro)\n",
    "        scheletroSpesso=COLOR(BLACK)(scheletroSpesso)\n",
    "        #piano=MKPOL([[[x-0.1,y+0.43,z+0.68],[x+0.33,y+0.43,z+0.68],[x+0.33,y-0.4,z+0.68],[x-0.1,y-0.4,z+0.68]],[[1,2,3,4]],[1]])\n",
    "        piano=MKPOL([[[x-0.4,y+0.33,z+0.68],[x+0.43,y+0.33,z+0.68],[x+0.43,y-0.1,z+0.68],[x-0.4,y-0.1,z+0.68]],[[1,2,3,4]],[1]])\n",
    "        pianoSpesso=OFFSET([0,0,0.03])(piano)\n",
    "        pianoSpesso=COLOR(Color4f([34/255.,139/25.,34/255.]))(pianoSpesso)\n",
    "        struttura=STRUCT([scheletroSpesso,pianoSpesso])\n",
    "        return(struttura)"
   ]
  },
  {
   "cell_type": "code",
   "execution_count": 3,
   "metadata": {
    "collapsed": false
   },
   "outputs": [],
   "source": [
    "'''funzione che crea una banco a due posti'''\n",
    "def creaBancoDoppio(x,y,z):\n",
    "    #struttura=MKPOL([[[x-0.1,y+0.4,z],[x+0.3,y+0.4,z],[x+0.3,y-0.4,z],[x-0.1,y-0.4,z],[x-0.1,y+0.4,z+0.65],[x+0.3,y+0.4,z+0.65],[x+0.3,y-0.4,z+0.65],[x-0.1,y-0.4,z+0.65]],[[1,5],[2,6],[3,7],[4,8],[5,6,7,8]],[1]])\n",
    "        struttura=MKPOL([[[x-0.8,y+0.3,z],[x+0.8,y+0.3,z],[x+0.8,y-0.1,z],[x-0.8,y-0.1,z],[x-0.8,y+0.3,z+0.65],[x+0.8,y+0.3,z+0.65],[x+0.8,y-0.1,z+0.65],[x-0.8,y-0.1,z+0.65]],[[1,5],[2,6],[3,7],[4,8],[5,6,7,8]],[1]])\n",
    "        scheletro=SKEL_1(struttura)\n",
    "        scheletroSpesso=OFFSET([0.03,0.03,0.03])(scheletro)\n",
    "        scheletroSpesso=COLOR(BLACK)(scheletroSpesso)\n",
    "        #piano=MKPOL([[[x-0.1,y+0.43,z+0.68],[x+0.33,y+0.43,z+0.68],[x+0.33,y-0.4,z+0.68],[x-0.1,y-0.4,z+0.68]],[[1,2,3,4]],[1]])\n",
    "        piano=MKPOL([[[x-0.8,y+0.33,z+0.68],[x+0.83,y+0.33,z+0.68],[x+0.83,y-0.1,z+0.68],[x-0.8,y-0.1,z+0.68]],[[1,2,3,4]],[1]])\n",
    "        pianoSpesso=OFFSET([0,0,0.03])(piano)\n",
    "        pianoSpesso=COLOR(Color4f([34/255.,139/25.,34/255.]))(pianoSpesso)\n",
    "        struttura=STRUCT([scheletroSpesso,pianoSpesso])\n",
    "        return(struttura)"
   ]
  },
  {
   "cell_type": "code",
   "execution_count": 4,
   "metadata": {
    "collapsed": false
   },
   "outputs": [],
   "source": [
    "'''funzione che crea una lavagna da pavimento'''\n",
    "def creaLavagna(x,y,z):\n",
    "    struttura=MKPOL([[[x-0.5,y,z],[x-0.5,y,z+2],[x+0.5,y,z],[x+0.5,y,z+2],[x-0.5,y,z+1],[x+0.5,y,z+1],[x-0.5,y+0.5,z],[x+0.5,y+0.5,z]],[[1,2,3,4],[5,6],[7,8],[5,7],[6,8]],[1]])\n",
    "    scheletro=SKEL_1(struttura)\n",
    "    scheletroSpesso=OFFSET([0.03,0.03,0.03])(scheletro)\n",
    "    piano=MKPOL([[[x-0.47,y,z+1.03],[x+0.50,y,z+1.03],[x-0.47,y,z+2],[x+0.50,y,z+2]],[[1,2,3,4]],[1]])\n",
    "    pianoSpesso=OFFSET([0,0.03,0.])(piano)\n",
    "    pianoSpesso=COLOR(BLACK)(pianoSpesso)\n",
    "    ggpl=TEXT(\"ggpl\")\n",
    "    ggpl=R([2,3])(PI/2)(ggpl)\n",
    "    ggpl=S([1,2,3])([0.5,0.5,0.5])(ggpl)\n",
    "    ggpl=S([1,2,3])([0.5,0.5,0.5])(ggpl)\n",
    "    ggpl=S([1,2,3])([0.5,0.5,0.5])(ggpl)\n",
    "    ggpl=S([1,2,3])([0.5,0.5,0.5])(ggpl)\n",
    "    ggpl=S([1,2,3])([0.8,0.8,0.8])(ggpl)\n",
    "    ggpl=S([1,2,3])([0.8,0.8,0.8])(ggpl)\n",
    "    ggpl=T([1,2,3])([3.6,6.99,1.5])(ggpl)\n",
    "    ggpl=OFFSET([0.01,0.01,0.01])(ggpl)\n",
    "    struttura=STRUCT([scheletroSpesso,pianoSpesso,ggpl])\n",
    "    return(struttura)"
   ]
  },
  {
   "cell_type": "code",
   "execution_count": 5,
   "metadata": {
    "collapsed": true
   },
   "outputs": [],
   "source": [
    "'''funzione che crea una cattedra'''\n",
    "def creaCattedra(x,y,z):\n",
    "    #struttura=MKPOL([[[x-0.1,y+0.4,z],[x+0.3,y+0.4,z],[x+0.3,y-0.4,z],[x-0.1,y-0.4,z],[x-0.1,y+0.4,z+0.65],[x+0.3,y+0.4,z+0.65],[x+0.3,y-0.4,z+0.65],[x-0.1,y-0.4,z+0.65]],[[1,5],[2,6],[3,7],[4,8],[5,6,7,8]],[1]])\n",
    "        struttura=MKPOL([[[x-0.8,y+0.6,z],[x+0.8,y+0.6,z],[x+0.8,y-0.1,z],[x-0.8,y-0.1,z],[x-0.8,y+0.6,z+0.65],[x+0.8,y+0.6,z+0.65],[x+0.8,y-0.1,z+0.65],[x-0.8,y-0.1,z+0.65]],[[1,5],[2,6],[3,7],[4,8],[5,6,7,8]],[1]])\n",
    "        scheletro=SKEL_1(struttura)\n",
    "        scheletroSpesso=OFFSET([0.03,0.03,0.03])(scheletro)\n",
    "        scheletroSpesso=COLOR(BLACK)(scheletroSpesso)\n",
    "        #piano=MKPOL([[[x-0.1,y+0.43,z+0.68],[x+0.33,y+0.43,z+0.68],[x+0.33,y-0.4,z+0.68],[x-0.1,y-0.4,z+0.68]],[[1,2,3,4]],[1]])\n",
    "        piano=MKPOL([[[x-0.8,y+0.63,z+0.68],[x+0.83,y+0.63,z+0.68],[x+0.83,y-0.1,z+0.68],[x-0.8,y-0.1,z+0.68]],[[1,2,3,4]],[1]])\n",
    "        pianoSpesso=OFFSET([0,0,0.02])(piano)\n",
    "        pianoSpesso=COLOR(Color4f([182/255.,155/255.,76/255.,1]))(pianoSpesso)\n",
    "        tastiera=MKPOL([[[x-0.2,y+0.2,z+0.71],[x+0.2,y+0.2,z+0.71],[x+0.2,y+0.4,z+0.71],[x-0.2,y+0.4,z+0.71]],[[1,2,3,4]],[1]])\n",
    "        tastiera=OFFSET([0,0,0.03])(tastiera)\n",
    "        tastiera=COLOR(Color4f([188/255.,198/25.,204/255.]))(tastiera)\n",
    "        schermo=MKPOL([[[x-0.2,y+0.2,z+0.71],[x+0.2,y+0.2,z+0.71],[x-0.2,y+0.2,z+1.01],[x+0.2,y+0.2,z+1.01]],[[1,2,3,4]],[1]])\n",
    "        schermo=OFFSET([0,-0.02,0])(schermo)\n",
    "        schermo=COLOR(Color4f([188/255.,198/25.,204/255.]))(schermo)\n",
    "        struttura=STRUCT([scheletroSpesso,pianoSpesso,tastiera,schermo])\n",
    "        return(struttura)"
   ]
  },
  {
   "cell_type": "code",
   "execution_count": null,
   "metadata": {
    "collapsed": true
   },
   "outputs": [],
   "source": []
  },
  {
   "cell_type": "code",
   "execution_count": 6,
   "metadata": {
    "collapsed": false
   },
   "outputs": [],
   "source": [
    "'''funzione che crea una sedia semplice'''\n",
    "def creaSedia(x,y,z):\n",
    "    struttura=MKPOL([[[x-0.2,y+0.2,z],[x+0.2,y+0.2,z],[x+0.2,y-0.2,z],[x-0.2,y-0.2,z],[x-0.2,y+0.2,z+0.5],[x+0.2,y+0.2,z+0.5],[x+0.2,y-0.2,z+0.5],[x-0.2,y-0.2,z+0.5],[x+0.2,y-0.2,z+0.7],[x-0.2,y-0.2,z+0.7]],[[1,5],[2,6],[3,7],[4,8],[5,6,7,8],[7,9],[8,10],[9,10]],[1]])\n",
    "    scheletro=SKEL_1(struttura)\n",
    "    scheletroSpesso=OFFSET([0.03,0.03,0.03])(scheletro)\n",
    "    scheletroSpesso=COLOR(BLACK)(scheletroSpesso)\n",
    "    schienale=MKPOL([[[x+0.25,y-0.17,z+0.6],[x-0.25,y-0.17,z+0.6],[x+0.25,y-0.17,z+0.9],[x-0.25,y-0.17,z+0.9]],[[1,2,3,4]],[1]])\n",
    "    schienale=OFFSET([0.03,0.03,0.03])(schienale)\n",
    "    schienale=COLOR(Color4f([70/255.,130/255.,180/255.,1]))(schienale)\n",
    "    seduta=MKPOL([[[x-0.2,y+0.2,z+0.53],[x+0.2,y+0.2,z+0.53],[x+0.2,y-0.2,z+0.53],[x-0.2,y-0.2,z+0.53]],[[1,2,3,4]],[1]])\n",
    "    seduta=OFFSET([0.03,0.03,0.03])(seduta)\n",
    "    seduta=COLOR(Color4f([65/255.,105/25.,255/255.]))(seduta)\n",
    "    struttura=STRUCT([scheletroSpesso,seduta,schienale])\n",
    "    return(struttura)"
   ]
  },
  {
   "cell_type": "code",
   "execution_count": 7,
   "metadata": {
    "collapsed": false
   },
   "outputs": [],
   "source": [
    "'''funzione che crea una sedia con braccioli'''\n",
    "def creaSediaBraccioli(x,y,z):\n",
    "    struttura=MKPOL([[[x-0.2,y+0.2,z],[x+0.2,y+0.2,z],[x+0.2,y-0.2,z],[x-0.2,y-0.2,z],[x-0.2,y+0.2,z+0.5],[x+0.2,y+0.2,z+0.5],[x+0.2,y-0.2,z+0.5],[x-0.2,y-0.2,z+0.5],[x+0.2,y-0.2,z+0.7],[x-0.2,y-0.2,z+0.7],[x-0.23,y+0.1,z+0.5],[x-0.23,y+0.1,z+0.7],[x-0.23,y-0.2,z+0.7],[x+0.23,y+0.1,z+0.5],[x+0.23,y+0.1,z+0.7],[x+0.23,y-0.2,z+0.7]],[[1,5],[2,6],[3,7],[4,8],[5,6,7,8],[7,9],[8,10],[9,10],[11,12],[12,13],[14,15],[15,16]],[1]])\n",
    "    scheletro=SKEL_1(struttura)\n",
    "    scheletroSpesso=OFFSET([0.03,0.03,0.03])(scheletro)\n",
    "    scheletroSpesso=COLOR(BLACK)(scheletroSpesso)\n",
    "    schienale=MKPOL([[[x+0.25,y-0.17,z+0.6],[x-0.25,y-0.17,z+0.6],[x+0.25,y-0.17,z+0.9],[x-0.25,y-0.17,z+0.9]],[[1,2,3,4]],[1]])\n",
    "    schienale=OFFSET([0.03,0.03,0.03])(schienale)\n",
    "    schienale=COLOR(Color4f([65/255.,105/25.,255/255.]))(schienale)\n",
    "    seduta=MKPOL([[[x-0.2,y+0.2,z+0.53],[x+0.2,y+0.2,z+0.53],[x+0.2,y-0.2,z+0.53],[x-0.2,y-0.2,z+0.53]],[[1,2,3,4]],[1]])\n",
    "    seduta=OFFSET([0.03,0.03,0.03])(seduta)\n",
    "    seduta=COLOR(Color4f([70/255.,130/255.,180/255.,1]))(seduta)\n",
    "    struttura=STRUCT([scheletroSpesso,seduta,schienale])\n",
    "    return(struttura)"
   ]
  },
  {
   "cell_type": "code",
   "execution_count": 8,
   "metadata": {
    "collapsed": false
   },
   "outputs": [],
   "source": [
    "'''funzione che crea un armadio a due ante'''\n",
    "def creaArmadio(x,y,z):\n",
    "    armadio=MKPOL([[[x-0.5,y+0.3,z],[x+0.5,y+0.3,z],[x+0.5,y-0.3,z],[x-0.5,y-0.3,z],[x-0.5,y+0.3,z+2],[x+0.5,y+0.3,z+2],[x+0.5,y-0.3,z+2],[x-0.5,y-0.3,z+2]],[[1,2,3,4],[2,3,6,7],[3,4,7,8],[4,1,8,5],[5,6,7,8]],[1]])\n",
    "    armadio=COLOR(Color4f([160/255.,82/255.,45/255.,1]))(OFFSET([0.1,0.1,0.1])(armadio))\n",
    "    anta1=MKPOL([[[x-0.5,y+0.4,z],[x-0.5,y+0.4,z+2],[x,y+0.4,z],[x,y+0.4,z+2]],[[1,2,3,4]],[1]])\n",
    "    anta2=MKPOL([[[x+0.5,y+0.4,z],[x+0.5,y+0.4,z+2],[x,y+0.4,z],[x,y+0.4,z+2]],[[1,2,3,4]],[1]])\n",
    "    anta1=COLOR(Color4f([139/255.,69/255.,19/255.,1]))(OFFSET([0.1,0.1,0.1])(anta1))\n",
    "    anta2=COLOR(Color4f([210/255.,105/255.,30/255.,1]))(OFFSET([0.1,0.1,0.1])(anta2))\n",
    "    pomello1=SPHERE(0.02)([100,100])\n",
    "    pomello1=T([1,2,3])([x-0.1,y+0.52,1])(pomello1)\n",
    "    pomello1=COLOR(BLACK)(pomello1)\n",
    "    pomello2=SPHERE(0.02)([100,100])\n",
    "    pomello2=T([1,2,3])([x+0.1,y+0.52,1])(pomello2)\n",
    "    pomello2=COLOR(BLACK)(pomello2)\n",
    "    struttura=STRUCT([armadio,anta1,anta2,pomello1,pomello2])\n",
    "    return(struttura)"
   ]
  },
  {
   "cell_type": "code",
   "execution_count": 9,
   "metadata": {
    "collapsed": true
   },
   "outputs": [],
   "source": [
    "'''funzione che crea il pavimento'''\n",
    "def creaPavimento(x,y,z):\n",
    "    pavimento=MKPOL([[[x-3,y-3,z],[x+2.5,y-3.1,z],[x-3,y+5.5,z],[x+2.5,y+5.5,z]],[[1,2,3,4]],[1]])\n",
    "    pavimento=OFFSET([0,0,-0.2])(pavimento)\n",
    "    pavimento=COLOR(Color4f([253/255.,244/255.,217/255.,0.5]))(pavimento)\n",
    "    return(pavimento)"
   ]
  },
  {
   "cell_type": "code",
   "execution_count": null,
   "metadata": {
    "collapsed": false
   },
   "outputs": [],
   "source": [
    "def creaForniture():\n",
    "    armadio=creaArmadio(0.5,0.30,0)\n",
    "    armadio1=creaArmadio(4,0.25,0)\n",
    "    sedia=creaSedia(3,3,0)\n",
    "    sedia1=creaSedia(4,3,0)\n",
    "    sedia2=creaSediaBraccioli(0.5,3,0)\n",
    "    sedia4=creaSedia(3,5,0)\n",
    "    sedia5=creaSedia(4,5,0)\n",
    "    sedia6=creaSediaBraccioli(0.5,5,0)\n",
    "    banco1=creaBanco(0.5,5.3,0)\n",
    "    banco2=creaBanco(0.5,3.3,0)\n",
    "    bancoD1=creaBancoDoppio(3.5,3.3,0)\n",
    "    bancoD2=creaBancoDoppio(3.5,5.3,0)\n",
    "    cattedra=creaCattedra(2.5,7,0)\n",
    "    lavagna=creaLavagna(4,7,0)\n",
    "    sediaMaestro=creaSediaBraccioli(-2.5,-8,0)\n",
    "    sediaMaestro=R([1,2])(PI)(sediaMaestro)\n",
    "    pavimento=creaPavimento(3,3,0)\n",
    "    struttura=STRUCT([armadio,armadio1,sedia,sedia1,sedia2,sedia4,sedia5,sedia6,banco1,banco2,bancoD1,bancoD2,cattedra,lavagna,sediaMaestro,pavimento])\n",
    "    VIEW(struttura)"
   ]
  },
  {
   "cell_type": "code",
   "execution_count": null,
   "metadata": {
    "collapsed": false
   },
   "outputs": [
    {
     "name": "stdout",
     "output_type": "stream",
     "text": [
      "Child 3\n",
      "Child 3\n",
      "Child 3\n",
      "Child 3\n"
     ]
    }
   ],
   "source": [
    "creaForniture()"
   ]
  }
 ],
 "metadata": {
  "anaconda-cloud": {},
  "kernelspec": {
   "display_name": "Python [default]",
   "language": "python",
   "name": "python2"
  },
  "language_info": {
   "codemirror_mode": {
    "name": "ipython",
    "version": 2
   },
   "file_extension": ".py",
   "mimetype": "text/x-python",
   "name": "python",
   "nbconvert_exporter": "python",
   "pygments_lexer": "ipython2",
   "version": "2.7.12"
  }
 },
 "nbformat": 4,
 "nbformat_minor": 1
}
