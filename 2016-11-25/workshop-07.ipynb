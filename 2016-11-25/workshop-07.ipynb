{
 "cells": [
  {
   "cell_type": "markdown",
   "metadata": {
    "collapsed": true
   },
   "source": [
    "# My_WinDo(w)or"
   ]
  },
  {
   "cell_type": "code",
   "execution_count": null,
   "metadata": {
    "collapsed": true
   },
   "outputs": [],
   "source": [
    "from pyplasm import *\n",
    "from larlib import*"
   ]
  },
  {
   "cell_type": "code",
   "execution_count": null,
   "metadata": {
    "collapsed": true
   },
   "outputs": [],
   "source": [
    "def getVertici(x,z,X,Z):\n",
    "    \n",
    "    "
   ]
  },
  {
   "cell_type": "code",
   "execution_count": null,
   "metadata": {
    "collapsed": true
   },
   "outputs": [],
   "source": [
    "def creaFinestra():\n",
    "        altezza=[0.20,0.50,0.10,0.50,0.20]\n",
    "        base=[0.20,0.25,.10,0.20,0.20]\n",
    "        matrice= ([[ 1,  1,  1,  1,  1],\n",
    "                   [ 1,  0,  1,  0,  1],\n",
    "                   [ 1,  1,  1,  1,  1],\n",
    "                   [ 1,  0,  1,  0,  1],\n",
    "                   [ 1,  1,  1,  1,  1]]\n",
    "        for i in range(len(altezza)):\n",
    "            for j in range(len(base)):\n",
    "                  if matrice[i][j]==1:\n",
    "                      vertici = getVerts(x,z,X,Z)\n",
    "                      cella =MKPOL([vertici,[[1,2,3,4]],[1]])\n",
    "        return(finestra)"
   ]
  },
  {
   "cell_type": "code",
   "execution_count": null,
   "metadata": {
    "collapsed": true
   },
   "outputs": [],
   "source": [
    "def creaPorta():\n",
    "        altezza=[0.20,0.35,0.10,0.35,0.10,0.35,0.10,0.35,0.10,0.35,0.20]\n",
    "        base=[0.20,0.25,.10,0.20,0.20]\n",
    "        matrice= ([[ 1,  1,  1,  1,  1],\n",
    "                   [ 1,  0,  1,  0,  1],\n",
    "                   [ 1,  1,  1,  1,  1],\n",
    "                   [ 1,  0,  1,  0,  1],\n",
    "                   [ 1,  1,  1,  1,  1],\n",
    "                   [ 1,  0,  1,  0,  1],\n",
    "                   [ 1,  1,  1,  1,  1],\n",
    "                   [ 1,  0,  1,  0,  1],\n",
    "                   [ 1,  1,  1,  1,  1],\n",
    "                   [ 1,  0,  1,  0,  1],\n",
    "                   [ 1,  1,  1,  1,  1]])\n",
    "        for \n",
    "        return(porta)"
   ]
  }
 ],
 "metadata": {
  "anaconda-cloud": {},
  "kernelspec": {
   "display_name": "Python [default]",
   "language": "python",
   "name": "python2"
  },
  "language_info": {
   "codemirror_mode": {
    "name": "ipython",
    "version": 2
   },
   "file_extension": ".py",
   "mimetype": "text/x-python",
   "name": "python",
   "nbconvert_exporter": "python",
   "pygments_lexer": "ipython2",
   "version": "2.7.12"
  }
 },
 "nbformat": 4,
 "nbformat_minor": 1
}
