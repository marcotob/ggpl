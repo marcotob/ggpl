{
 "cells": [
  {
   "cell_type": "markdown",
   "metadata": {
    "collapsed": true
   },
   "source": [
    "# My_WinDo(w)or"
   ]
  },
  {
   "cell_type": "code",
   "execution_count": 1,
   "metadata": {
    "collapsed": false,
    "scrolled": true
   },
   "outputs": [
    {
     "name": "stdout",
     "output_type": "stream",
     "text": [
      "Evaluating fenvs.py..\n",
      "...fenvs.py imported in 0.00563 seconds\n"
     ]
    },
    {
     "name": "stderr",
     "output_type": "stream",
     "text": [
      "/Users/caosnumerico/anaconda2/lib/python2.7/site-packages/larlib/larstruct.py:233: FutureWarning: comparison to `None` will result in an elementwise object comparison in the future.\n",
      "  self.body = [item for item in data if item != None]\n"
     ]
    }
   ],
   "source": [
    "from pyplasm import*\n",
    "from larlib import*"
   ]
  },
  {
   "cell_type": "code",
   "execution_count": 2,
   "metadata": {
    "collapsed": true
   },
   "outputs": [],
   "source": [
    "\"\"\"parametri per le dimensioni interne\"\"\"\n",
    "Xd = [0.20,0.35,0.10,0.35,0.10,0.35,0.10,0.35,0.10,0.35,0.20]\n",
    "Yd = [0.20,0.25,.10,0.20,0.20]\n",
    "Zd = [0.04]\n",
    "\n",
    "Xw = [0.20,0.50,0.10,0.50,0.20]\n",
    "Yw = [0.20,0.25,.10,0.20,0.20]\n",
    "Zw = [0.04]\n",
    "\n",
    "\"\"\"vettore di righe e spazi\"\"\"\n",
    "occupancy =[1,1,1,1,1,1,0,1,0,1,1,1,1,1,1,1,0,1,0,1,1,1,1,1,1]"
   ]
  },
  {
   "cell_type": "code",
   "execution_count": 3,
   "metadata": {
    "collapsed": false
   },
   "outputs": [],
   "source": [
    "def struttura(X,Y,Z,occupancy):\n",
    "    xyPlane = PROD([QUOTE(X),QUOTE(Y)]);\n",
    "    window = PROD([xyPlane,QUOTE(Z)])\n",
    "    a = UKPOL(window)\n",
    "    for j in range(0,len(a[1])):\n",
    "        if occupancy[j] == 0:\n",
    "            cell = a[1][j]\n",
    "            verts = []\n",
    "            minValue = min(cell)\n",
    "            for i in range(0,len(cell)):\n",
    "                verts.append(a[0][cell[i]-1])\n",
    "                cell[i] = cell[i]-minValue+1\n",
    "            c = MKPOL([verts,[cell],None])\n",
    "            window = DIFFERENCE([window,c])\n",
    "    return window"
   ]
  },
  {
   "cell_type": "code",
   "execution_count": null,
   "metadata": {
    "collapsed": true
   },
   "outputs": [],
   "source": [
    "def window(X,Y,Z,occupancy):\n",
    "    return struttura(X,Y,Z,occupancy)"
   ]
  },
  {
   "cell_type": "code",
   "execution_count": 4,
   "metadata": {
    "collapsed": true
   },
   "outputs": [],
   "source": [
    "def door(X,Y,Z,occupancy):\n",
    "    base = COLOR(GRAY)(TUBE([0,.03,.02])(20))\n",
    "    maniglia = T(3)(.04)(COLOR(BLACK)(CUBOID([.02,.15,.04])))\n",
    "    maniglia2 = T(2)(0.11)(COLOR(BLACK)(CUBOID([.02,.04,.04])))\n",
    "    maniglia = T(3)(.06)(STRUCT([maniglia,maniglia2]))\n",
    "    maniglia = STRUCT([maniglia,T([1,2,3])([.01,.13,.04])(base)])\n",
    "    maniglia = T([1,2])([1.5,0.75])(maniglia)\n",
    "    \n",
    "    doorD=struttra(X,Y,Z,occupancy)\n",
    "    doorU=struttura(X,Y,Z,occupancy)\n",
    "    doorf= T(1)(1.5)(doorU)\n",
    "    door=STRUCT([doorD,doorf,maniglia])\n",
    "    return(door)"
   ]
  },
  {
   "cell_type": "code",
   "execution_count": 5,
   "metadata": {
    "collapsed": false
   },
   "outputs": [
    {
     "data": {
      "text/plain": [
       "<pyplasm.xgepy.Hpc; proxy of <Swig Object of type 'std::shared_ptr< Hpc > *' at 0x1143aa1b0> >"
      ]
     },
     "execution_count": 5,
     "metadata": {},
     "output_type": "execute_result"
    }
   ],
   "source": [
    "#VIEW(door(Xw,Yw,Zw,occupancy))\n",
    "VIEW(struttura(Xw,Yw,Zw,occupancy))"
   ]
  },
  {
   "cell_type": "markdown",
   "metadata": {
    "collapsed": true
   },
   "source": [
    "![porta](https://raw.githubusercontent.com/marcotob/ggpl/master/2016-11-25/img/porta1.png)"
   ]
  },
  {
   "cell_type": "markdown",
   "metadata": {
    "collapsed": true
   },
   "source": [
    "![maniglia](https://raw.githubusercontent.com/marcotob/ggpl/master/2016-11-25/img/maniglia.png)"
   ]
  },
  {
   "cell_type": "markdown",
   "metadata": {
    "collapsed": true
   },
   "source": [
    "![porta3](https://raw.githubusercontent.com/marcotob/ggpl/master/2016-11-25/img/porta2.png)"
   ]
  },
  {
   "cell_type": "markdown",
   "metadata": {
    "collapsed": true
   },
   "source": [
    "![porta4](https://raw.githubusercontent.com/marcotob/ggpl/master/2016-11-25/img/porta4.png)"
   ]
  },
  {
   "cell_type": "markdown",
   "metadata": {
    "collapsed": true
   },
   "source": [
    "![finestra](https://raw.githubusercontent.com/marcotob/ggpl/master/2016-11-25/img/finestra.png)"
   ]
  }
 ],
 "metadata": {
  "anaconda-cloud": {},
  "kernelspec": {
   "display_name": "Python [default]",
   "language": "python",
   "name": "python2"
  },
  "language_info": {
   "codemirror_mode": {
    "name": "ipython",
    "version": 2
   },
   "file_extension": ".py",
   "mimetype": "text/x-python",
   "name": "python",
   "nbconvert_exporter": "python",
   "pygments_lexer": "ipython2",
   "version": "2.7.12"
  }
 },
 "nbformat": 4,
 "nbformat_minor": 1
}
