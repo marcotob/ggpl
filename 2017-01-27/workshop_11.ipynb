{
 "cells": [
  {
   "cell_type": "code",
   "execution_count": 1,
   "metadata": {
    "collapsed": false
   },
   "outputs": [
    {
     "name": "stdout",
     "output_type": "stream",
     "text": [
      "Evaluating fenvs.py..\n",
      "...fenvs.py imported in 0.00563 seconds\n"
     ]
    }
   ],
   "source": [
    "from pyplasm import *\n",
    "from workshop_10 import *\n",
    "import csv"
   ]
  },
  {
   "cell_type": "code",
   "execution_count": 2,
   "metadata": {
    "collapsed": true
   },
   "outputs": [],
   "source": [
    "def stringToFloat(str):\n",
    "    l = str.split(',')\n",
    "    newList=[]\n",
    "    for c in l:\n",
    "        elem = float(c)/10.\n",
    "        newList.append(elem)\n",
    "    return newList"
   ]
  },
  {
   "cell_type": "code",
   "execution_count": null,
   "metadata": {
    "collapsed": false
   },
   "outputs": [],
   "source": [
    "def provaCurva(file_name):\n",
    "    curva = STRUCT([QUOTE([0])])\n",
    "    lista = []\n",
    "    with open(file_name,'r') as csvFile:\n",
    "        reader = csv.reader(csvFile, delimiter=' ', quotechar='|')\n",
    "        for row in reader:\n",
    "            l = stringToFloat(row[0])\n",
    "            c = MAP(BEZIER(S1)([[l[0],l[1]],[l[2],l[3]]]))(INTERVALS(1)(5))\n",
    "            curva = STRUCT([curva,c])\n",
    "    base=CUBOID([100,100,0.5])\n",
    "    base=TEXTURE([\"pratoF.jpg\",True,False,1,1,0,20,20])(base)\n",
    "    base2=CUBOID([100,100,1])\n",
    "    base2=TEXTURE([\"legno.jpg\",True,False,1,1,0,1,1])(base2)\n",
    "    base2=T(3)(-1)(base2)\n",
    "    curva = OFFSET([2,2])(curva)\n",
    "    curva = PROD([curva,Q(0.7)])\n",
    "    curva=TEXTURE([\"sanpietrini.jpg\",True,False,1,1,0,20,20])(curva)\n",
    "    casa = doppio()\n",
    "    casa=S([1,2,3])([0.3,0.3,0.3])(casa)\n",
    "    casa=T(3)(0.5)(casa)\n",
    "    casa=R([1,2])(PI/5.4)(casa)\n",
    "    casa=T([1,2])([40,30])(casa)\n",
    "    \n",
    "    casa2 = doppio()\n",
    "    casa2=S([1,2,3])([0.3,0.3,0.3])(casa2)\n",
    "    casa2=T(3)(0.5)(casa2)\n",
    "    casa2=R([1,2])(PI/5.4)(casa2)\n",
    "    casa2=T([1,2])([52,25])(casa2)\n",
    "    \n",
    "    casa3=singoloS()\n",
    "    casa3=S([1,2,3])([0.3,0.3,0.3])(casa3)\n",
    "    casa3=T(3)(0.5)(casa3)\n",
    "    casa3=R([1,2])(PI/5.4)(casa3)\n",
    "    casa3=T([1,2])([48,21])(casa3)\n",
    "    \n",
    "    casa4=singoloN()\n",
    "    casa4=S([1,2,3])([0.3,0.3,0.3])(casa4)\n",
    "    casa4=T(3)(0.5)(casa4)\n",
    "    casa4=R([1,2])(PI/5.4)(casa4)\n",
    "    casa4=T([1,2])([36,26])(casa4)\n",
    "    \n",
    "    casa5=piani3()\n",
    "    casa5=S([1,2,3])([0.3,0.3,0.3])(casa5)\n",
    "    casa5=T(3)(0.5)(casa5)\n",
    "    casa5=R([1,2])(PI/5.4)(casa5)\n",
    "    casa5=T([1,2])([32,22])(casa5)\n",
    "    \n",
    "    casa6=piani3()\n",
    "    casa6=S([1,2,3])([0.3,0.3,0.3])(casa6)\n",
    "    casa6=T(3)(0.5)(casa6)\n",
    "    casa6=R([1,2])(PI/5.4)(casa6)\n",
    "    casa6=T([1,2])([45,18])(casa6)\n",
    "    \n",
    "    struct=STRUCT([curva,base,base2,casa,casa2,casa3,casa4,casa5,casa6])\n",
    "    VIEW(struct)"
   ]
  },
  {
   "cell_type": "code",
   "execution_count": null,
   "metadata": {
    "collapsed": false
   },
   "outputs": [],
   "source": [
    "provaCurva(\"stradeSS.lines\")"
   ]
  }
 ],
 "metadata": {
  "anaconda-cloud": {},
  "kernelspec": {
   "display_name": "Python [default]",
   "language": "python",
   "name": "python2"
  },
  "language_info": {
   "codemirror_mode": {
    "name": "ipython",
    "version": 2
   },
   "file_extension": ".py",
   "mimetype": "text/x-python",
   "name": "python",
   "nbconvert_exporter": "python",
   "pygments_lexer": "ipython2",
   "version": "2.7.12"
  }
 },
 "nbformat": 4,
 "nbformat_minor": 1
}
