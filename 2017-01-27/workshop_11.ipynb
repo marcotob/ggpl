{
 "cells": [
  {
   "cell_type": "markdown",
   "metadata": {
    "collapsed": false
   },
   "source": [
    "from pyplasm import *\n",
    "from numpy import array\n",
    "\n",
    "def sample(intervalSize):\n",
    "    def sample0(n):\n",
    "        return (float(intervalSize)/n * array(range(n+1)))\n",
    "    return sample0\n",
    "\n",
    "controlPoints = [[0,0],[8,0],[0,8],[8,8]]\n",
    "c = BEZIERCURVE(controlPoints)\n",
    "curvepoints = [c([x]) for x in sample(1.0)(10000)]\n",
    "\n",
    "out = STRUCT([STRUCT([MK(p) for p in curvepoints]) ]) # POLYLINE(controlPoints),\n",
    "VIEW(out)"
   ]
  },
  {
   "cell_type": "code",
   "execution_count": null,
   "metadata": {
    "collapsed": false
   },
   "outputs": [
    {
     "name": "stdout",
     "output_type": "stream",
     "text": [
      "Evaluating fenvs.py..\n",
      "...fenvs.py imported in 0.005783 seconds\n"
     ]
    }
   ],
   "source": [
    "from pyplasm import *\n",
    "a=MAP(BEZIER(S1)([[-0,0],[1,0],[1,1],[2,1],[3,1]]))(INTERVALS(1)(32))\n",
    "a=OFFSET([0.2,0.2])(a)\n",
    "b=MAP(BEZIER(S1)([[-0,0],[3,0],[3,3],[6,3],[9,3]]))(INTERVALS(1)(32))\n",
    "b=OFFSET([0.2,0.2])(b)\n",
    "b=R([1,2])(PI/2)(b)\n",
    "c=MAP(BEZIER(S1)([[-0,0],[6,0],[6,6],[12,6],[18,6]]))(INTERVALS(1)(32))\n",
    "c=OFFSET([0.2,0.2])(c)\n",
    "c=R([1,2])(PI)(c)\n",
    "d=MAP(BEZIER(S1)([[-0,0],[3,0],[3,3],[6,3],[9,3]]))(INTERVALS(1)(32))\n",
    "d=OFFSET([0.2,0.2])(d)\n",
    "d=R([1,2])(PI*3/4)(d)\n",
    "e=MAP(BEZIER(S1)([[-1,5],[3,0],[9,6],[12,8],[18,9]]))(INTERVALS(1)(32))\n",
    "e=OFFSET([1,1,0.00001])(e)\n",
    "\n",
    "struct=STRUCT([a,b,c,d,e])\n",
    "\n",
    "\n",
    "VIEW(struct)"
   ]
  }
 ],
 "metadata": {
  "anaconda-cloud": {},
  "kernelspec": {
   "display_name": "Python [default]",
   "language": "python",
   "name": "python2"
  },
  "language_info": {
   "codemirror_mode": {
    "name": "ipython",
    "version": 2
   },
   "file_extension": ".py",
   "mimetype": "text/x-python",
   "name": "python",
   "nbconvert_exporter": "python",
   "pygments_lexer": "ipython2",
   "version": "2.7.12"
  }
 },
 "nbformat": 4,
 "nbformat_minor": 1
}
