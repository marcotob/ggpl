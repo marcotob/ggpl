{
 "cells": [
  {
   "cell_type": "markdown",
   "metadata": {},
   "source": [
    "# My_suburban_neighborhood_design"
   ]
  },
  {
   "cell_type": "markdown",
   "metadata": {},
   "source": [
    "In questo homework sono definite delle funzioni ognuna per la creazione di un elementofacente parte il modello di un quartiere periferico immerso nel verde.\n",
    "In questo consorzio gli ipotetici inquilini possono usufruire di una piscina comune, di un campo da calcio e un campo da pallacanestro."
   ]
  },
  {
   "cell_type": "code",
   "execution_count": 1,
   "metadata": {
    "collapsed": false
   },
   "outputs": [
    {
     "data": {
      "text/plain": [
       "'In this project every function let to create an object ad to place it in a specific point\\n    of the model.'"
      ]
     },
     "execution_count": 1,
     "metadata": {},
     "output_type": "execute_result"
    }
   ],
   "source": [
    "\"\"\"In this project every function let to create an object ad to place it in a specific point\n",
    "    of the model.\"\"\""
   ]
  },
  {
   "cell_type": "code",
   "execution_count": 2,
   "metadata": {
    "collapsed": false
   },
   "outputs": [
    {
     "name": "stdout",
     "output_type": "stream",
     "text": [
      "Evaluating fenvs.py..\n",
      "...fenvs.py imported in 0.006514 seconds\n"
     ]
    },
    {
     "ename": "ImportError",
     "evalue": "No module named cs",
     "output_type": "error",
     "traceback": [
      "\u001b[0;31m---------------------------------------------------------------------------\u001b[0m",
      "\u001b[0;31mImportError\u001b[0m                               Traceback (most recent call last)",
      "\u001b[0;32m<ipython-input-2-f18b943eb66e>\u001b[0m in \u001b[0;36m<module>\u001b[0;34m()\u001b[0m\n\u001b[1;32m      1\u001b[0m \u001b[0;31m# from pyplasm import *\u001b[0m\u001b[0;34m\u001b[0m\u001b[0;34m\u001b[0m\u001b[0m\n\u001b[1;32m      2\u001b[0m \u001b[0;32mfrom\u001b[0m \u001b[0mworkshop_10\u001b[0m \u001b[0;32mimport\u001b[0m \u001b[0;34m*\u001b[0m\u001b[0;34m\u001b[0m\u001b[0m\n\u001b[0;32m----> 3\u001b[0;31m \u001b[0;32mimport\u001b[0m \u001b[0mcs\u001b[0m\u001b[0;34m\u001b[0m\u001b[0m\n\u001b[0m",
      "\u001b[0;31mImportError\u001b[0m: No module named cs"
     ]
    }
   ],
   "source": [
    "# from pyplasm import *\n",
    "from workshop_10 import *\n",
    "import csv"
   ]
  },
  {
   "cell_type": "code",
   "execution_count": null,
   "metadata": {
    "collapsed": true
   },
   "outputs": [],
   "source": [
    "def stringToFloat(str):\n",
    "    l = str.split(',')\n",
    "    newList=[]\n",
    "    for c in l:\n",
    "        elem = float(c)/10.\n",
    "        newList.append(elem)\n",
    "    return newList"
   ]
  },
  {
   "cell_type": "code",
   "execution_count": null,
   "metadata": {
    "collapsed": true
   },
   "outputs": [],
   "source": [
    "def albero():\n",
    "    chioma=SPHERE(1)([20,20])\n",
    "    chioma=T(3)(3.7)(chioma)\n",
    "    #chioma=COLOR(GREEN)(chioma)\n",
    "    chioma=TEXTURE([\"chioma1.jpg\",True,False,1,1,0,1,1])(chioma)\n",
    "    #tronco=SPHERE(0.2)([20,2])\n",
    "    tronco=TUBE([0.1,0.2,3.2])(20)\n",
    "    #tronco=COLOR(Color4f([139/255.,69/255.,19/255.,1]))(tronco)\n",
    "    tronco=TEXTURE([\"troncoP.jpg\",True,False,1,1,0,3,3])(tronco)\n",
    "    alb=STRUCT([chioma,tronco])\n",
    "    return alb"
   ]
  },
  {
   "cell_type": "code",
   "execution_count": null,
   "metadata": {
    "collapsed": true
   },
   "outputs": [],
   "source": [
    "![Albero](http:)"
   ]
  },
  {
   "cell_type": "code",
   "execution_count": null,
   "metadata": {
    "collapsed": true
   },
   "outputs": [],
   "source": [
    "def piscina():\n",
    "    bordo=CUBOID([7.5,15,0.8])\n",
    "    trampolino=CUBOID([1,3,0.2])\n",
    "    trampolino=T([3])([0.8])(trampolino)\n",
    "    trampolino=T([1])([3.75])(trampolino)\n",
    "    trampolino=COLOR(RED)(trampolino)\n",
    "    acqua=CUBOID([6.5,14,0.8])\n",
    "    acqua=T([1,2])([0.5,0.5])(acqua)\n",
    "    acqua2=CUBOID([6.5,14,0.6])\n",
    "    acqua2=T([1,2])([0.5,0.5])(acqua2)\n",
    "    bordo=DIFFERENCE([bordo,acqua])\n",
    "    acqua2=TEXTURE([\"acquaA.jpg\",True,False,1,1,0,3,3])(acqua2)\n",
    "    piscina=STRUCT([bordo,acqua2,trampolino])\n",
    "    piscina=T([1,2])([20,15])(piscina)\n",
    "    piscina=R([1,2])(PI/4)(piscina)\n",
    "    piscina=R([1,2])(PI/4)(piscina)\n",
    "    piscina=R([1,2])(PI/4)(piscina)\n",
    "    piscina=T([1,2])([63,74])(piscina)\n",
    "\n",
    "    return piscina"
   ]
  },
  {
   "cell_type": "code",
   "execution_count": null,
   "metadata": {
    "collapsed": true
   },
   "outputs": [],
   "source": [
    "![Piscina](http:)"
   ]
  },
  {
   "cell_type": "code",
   "execution_count": null,
   "metadata": {
    "collapsed": true
   },
   "outputs": [],
   "source": [
    "def basket():\n",
    "    basket=CUBOID([7.5,15,0.7])\n",
    "    basket=TEXTURE([\"basketB.gif\",True,False,1,1,0,1,1])(basket)\n",
    "    \n",
    "    \n",
    "    r1=MKPOL([[[0,0,0],[0,0,2.5],[7.5,0,0],[7.5,0,2.5]],[[1,2,3,4]],[1]])\n",
    "    r1=TEXTURE([\"murale1.jpg\",True,False,1,1,0,1,1])(r1)\n",
    "    r1=R([1,2])(PI/5.4)(r1)\n",
    "    r1=T([1,2])([54.5,61])(r1)\n",
    "\n",
    "    r2=MKPOL([[[0,0,0],[0,0,2.5],[0,15,0],[0,15,2.5]],[[1,2,3,4]],[1]])\n",
    "    r2=TEXTURE([\"murale7.jpg\",True,False,1,1,0,1,1])(r2)\n",
    "    r2=R([1,2])(PI/5.4)(r2)\n",
    "    r2=T([1,2])([54.5,61])(r2)\n",
    "\n",
    "    r31=MKPOL([[[0,15,0],[0,15,2.5],[3,15,0],[3,15,2.5]],[[1,2,3,4]],[1]])\n",
    "    r31=TEXTURE([\"murale3.jpg\",True,False,1,1,0,1,1])(r31)\n",
    "    r31=R([1,2])(PI/5.4)(r31)\n",
    "    r31=T([1,2])([54.5,61])(r31)\n",
    "    \n",
    "    r32=MKPOL([[[4,15,0],[4,15,2.5],[7.5,15,0],[7.5,15,2.5]],[[1,2,3,4]],[1]])\n",
    "    r32=TEXTURE([\"murale6.jpg\",True,False,1,1,0,1,1])(r32)\n",
    "    r32=R([1,2])(PI/5.4)(r32)\n",
    "    r32=T([1,2])([54.5,61])(r32)\n",
    "\n",
    "    r4=MKPOL([[[7.5,15,0],[7.5,15,2.5],[7.5,0,0],[7.5,0,2.5]],[[1,2,3,4]],[1]])\n",
    "    r4=TEXTURE([\"murale5.jpg\",True,False,1,1,0,1,1])(r4)\n",
    "    r4=R([1,2])(PI/5.4)(r4)\n",
    "    r4=T([1,2])([54.5,61])(r4)\n",
    "    \n",
    "    basket=R([1,2])(PI/5.4)(basket)\n",
    "    basket=T([1,2])([54.5,61])(basket)\n",
    "    \n",
    "    bas=STRUCT([basket,r1,r2,r31,r32,r4])\n",
    "    \n",
    "    return bas"
   ]
  },
  {
   "cell_type": "code",
   "execution_count": null,
   "metadata": {
    "collapsed": true
   },
   "outputs": [],
   "source": [
    "![Campo Basket](http:)"
   ]
  },
  {
   "cell_type": "code",
   "execution_count": null,
   "metadata": {
    "collapsed": true
   },
   "outputs": [],
   "source": [
    "def calcio():\n",
    "    calc=CUBOID([7.5,15,0.7])\n",
    "    calc=TEXTURE([\"calcioC.jpg\",True,False,1,1,0,1,1])(calc)\n",
    "    calc=T([1,2])([70,33])(calc)\n",
    "    \n",
    "    r1=MKPOL([[[2,0,0],[2,0,1.5],[7.5,0,0],[7.5,0,1.5]],[[1,2,3,4]],[1]])\n",
    "    r1=TEXTURE([\"reteR.jpg\",True,False,1,1,0,5,2])(r1)\n",
    "    r1=T([1,2])([70,33])(r1)\n",
    "\n",
    "    r2=MKPOL([[[0,0,0],[0,0,1.5],[0,15,0],[0,15,1.5]],[[1,2,3,4]],[1]])\n",
    "    r2=TEXTURE([\"reteR.jpg\",True,False,1,1,0,5,2])(r2)\n",
    "    r2=T([1,2])([70,33])(r2)\n",
    "\n",
    "    r3=MKPOL([[[0,15,0],[0,15,1.5],[7.5,15,0],[7.5,15,1.5]],[[1,2,3,4]],[1]])\n",
    "    r3=TEXTURE([\"reteR.jpg\",True,False,1,1,0,5,2])(r3)\n",
    "    r3=T([1,2])([70,33])(r3)\n",
    "\n",
    "    r4=MKPOL([[[7.5,15,0],[7.5,15,1.5],[7.5,0,0],[7.5,0,1.5]],[[1,2,3,4]],[1]])\n",
    "    r4=TEXTURE([\"reteR.jpg\",True,False,1,1,0,5,2])(r4)\n",
    "    r4=T([1,2])([70,33])(r4)\n",
    "    \n",
    "    cal=STRUCT([calc,r1,r2,r3,r4])\n",
    "    \n",
    "    return cal"
   ]
  },
  {
   "cell_type": "code",
   "execution_count": null,
   "metadata": {
    "collapsed": true
   },
   "outputs": [],
   "source": [
    "![Campo calcio](http:)"
   ]
  },
  {
   "cell_type": "code",
   "execution_count": null,
   "metadata": {
    "collapsed": false
   },
   "outputs": [],
   "source": [
    "def provaCurva(file_name):\n",
    "    curva = STRUCT([QUOTE([0])])\n",
    "    lista = []\n",
    "    with open(file_name,'r') as csvFile:\n",
    "        reader = csv.reader(csvFile, delimiter=' ', quotechar='|')\n",
    "        for row in reader:\n",
    "            l = stringToFloat(row[0])\n",
    "            c = MAP(BEZIER(S1)([[l[0],l[1]],[l[2],l[3]]]))(INTERVALS(1)(5))\n",
    "            curva = STRUCT([curva,c])\n",
    "    base=CUBOID([100,100,0.5])\n",
    "    base=TEXTURE([\"pratoF.jpg\",True,False,1,1,0,20,20])(base)\n",
    "    base2=CUBOID([100,100,1])\n",
    "    base2=TEXTURE([\"legno.jpg\",True,False,1,1,0,1,1])(base2)\n",
    "    base2=T(3)(-1)(base2)\n",
    "    curva = OFFSET([2,2])(curva)\n",
    "    curva = PROD([curva,Q(0.7)])\n",
    "    curva=TEXTURE([\"sanpietrini.jpg\",True,False,1,1,0,40,40])(curva)\n",
    "    casa = doppio()\n",
    "    casa=S([1,2,3])([0.3,0.3,0.3])(casa)\n",
    "    casa=T(3)(0.5)(casa)\n",
    "    casa=R([1,2])(PI/5.4)(casa)\n",
    "    casa=T([1,2])([40,30])(casa)\n",
    "    \n",
    "    \n",
    "    casa33 = doppio()\n",
    "    casa33=S([1,2,3])([0.3,0.3,0.3])(casa33)\n",
    "    casa33=T(3)(0.5)(casa33)\n",
    "    casa33=R([1,2])(PI/5.4)(casa33)\n",
    "    casa33=T([1,2])([29,48])(casa33)\n",
    "    \n",
    "    casa2 = doppio()\n",
    "    casa2=S([1,2,3])([0.3,0.3,0.3])(casa2)\n",
    "    casa2=T(3)(0.5)(casa2)\n",
    "    casa2=R([1,2])(PI/5.4)(casa2)\n",
    "    casa2=T([1,2])([52,25])(casa2)\n",
    "    \n",
    "    casa3=singoloS()\n",
    "    casa3=S([1,2,3])([0.3,0.3,0.3])(casa3)\n",
    "    casa3=T(3)(0.5)(casa3)\n",
    "    casa3=R([1,2])(PI/5.4)(casa3)\n",
    "    casa3=R([1,2])(PI)(casa3)\n",
    "    casa3=T([1,2])([37,72])(casa3)\n",
    "    \n",
    "    casa4=singoloN()\n",
    "    casa4=S([1,2,3])([0.3,0.3,0.3])(casa4)\n",
    "    casa4=T(3)(0.5)(casa4)\n",
    "    casa4=R([1,2])(PI/5.4)(casa4)\n",
    "    casa4=R([1,2])(PI/2)(casa4)\n",
    "    casa4=T([1,2])([60,50])(casa4)\n",
    "    \n",
    "    casa5=piani3()\n",
    "    casa5=S([1,2,3])([0.3,0.3,0.3])(casa5)\n",
    "    casa5=T(3)(0.5)(casa5)\n",
    "    casa5=R([1,2])(PI/5.4)(casa5)\n",
    "    casa5=R([1,2])(PI/2)(casa5)\n",
    "    casa5=R([1,2])(PI)(casa5)\n",
    "    casa5=T([1,2])([46,47.5])(casa5)\n",
    "    \n",
    "    casa6=piani3()\n",
    "    casa6=S([1,2,3])([0.3,0.3,0.3])(casa6)\n",
    "    casa6=T(3)(0.5)(casa6)\n",
    "    casa6=R([1,2])(PI/5.4)(casa6)\n",
    "    casa6=T([1,2])([46,51.5])(casa6)\n",
    "    pisc=piscina()\n",
    "    calc=calcio()\n",
    "    bask=basket()\n",
    "    alb=albero()\n",
    "    boschetto=STRUCT([alb])\n",
    "    for i in range(80,99):\n",
    "        for j in range(99):\n",
    "            if i%4==0 and j%4==0:\n",
    "                alb=albero()\n",
    "                alb=T([1,2])([i,j])(alb)\n",
    "                boschetto=STRUCT([boschetto,alb])\n",
    "    \n",
    "    for i in range(79):\n",
    "        for j in range(21):\n",
    "            if i%4==0 and j%4==0:\n",
    "                alb=albero()\n",
    "                alb=T([1,2])([i,j])(alb)\n",
    "                boschetto=STRUCT([boschetto,alb])\n",
    "                \n",
    "    for i in range(79):\n",
    "        for j in range(89,99):\n",
    "            if i%4==0 and j%4==0:\n",
    "                alb=albero()\n",
    "                alb=T([1,2])([i,j])(alb)\n",
    "                boschetto=STRUCT([boschetto,alb])\n",
    "                \n",
    "    for i in range(7):\n",
    "        for j in range(21,89):\n",
    "            if i%4==0 and j%4==0:\n",
    "                alb=albero()\n",
    "                alb=T([1,2])([i,j])(alb)\n",
    "                boschetto=STRUCT([boschetto,alb])\n",
    "                \n",
    "                \n",
    "            \n",
    "    \n",
    "    struct=STRUCT([curva,base,base2,casa,casa33,casa2,casa3,casa4,casa5,casa6,boschetto,pisc,calc,bask])\n",
    "    VIEW(struct)"
   ]
  },
  {
   "cell_type": "code",
   "execution_count": null,
   "metadata": {
    "collapsed": true
   },
   "outputs": [],
   "source": [
    "![Casa Doppia](http:)"
   ]
  },
  {
   "cell_type": "code",
   "execution_count": null,
   "metadata": {
    "collapsed": true
   },
   "outputs": [],
   "source": [
    "![Casa singola](http:)"
   ]
  },
  {
   "cell_type": "code",
   "execution_count": null,
   "metadata": {
    "collapsed": true
   },
   "outputs": [],
   "source": [
    "![Casa bassa](http:)"
   ]
  },
  {
   "cell_type": "code",
   "execution_count": null,
   "metadata": {
    "collapsed": false
   },
   "outputs": [],
   "source": [
    "provaCurva(\"stradeSS.lines\")"
   ]
  },
  {
   "cell_type": "code",
   "execution_count": null,
   "metadata": {
    "collapsed": true
   },
   "outputs": [],
   "source": [
    "![Vista1](http:)"
   ]
  },
  {
   "cell_type": "code",
   "execution_count": null,
   "metadata": {
    "collapsed": true
   },
   "outputs": [],
   "source": [
    "![Vista2](http:)"
   ]
  },
  {
   "cell_type": "code",
   "execution_count": null,
   "metadata": {
    "collapsed": true
   },
   "outputs": [],
   "source": [
    "![Vista3](http:)"
   ]
  },
  {
   "cell_type": "code",
   "execution_count": null,
   "metadata": {
    "collapsed": true
   },
   "outputs": [],
   "source": [
    "![Vista4](http:)"
   ]
  },
  {
   "cell_type": "code",
   "execution_count": null,
   "metadata": {
    "collapsed": true
   },
   "outputs": [],
   "source": [
    "![Vista5](http:)"
   ]
  }
 ],
 "metadata": {
  "anaconda-cloud": {},
  "kernelspec": {
   "display_name": "Python [default]",
   "language": "python",
   "name": "python2"
  },
  "language_info": {
   "codemirror_mode": {
    "name": "ipython",
    "version": 2
   },
   "file_extension": ".py",
   "mimetype": "text/x-python",
   "name": "python",
   "nbconvert_exporter": "python",
   "pygments_lexer": "ipython2",
   "version": "2.7.12"
  }
 },
 "nbformat": 4,
 "nbformat_minor": 1
}
