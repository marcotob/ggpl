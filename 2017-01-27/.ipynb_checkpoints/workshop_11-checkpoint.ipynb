{
 "cells": [
  {
   "cell_type": "code",
   "execution_count": 1,
   "metadata": {
    "collapsed": false
   },
   "outputs": [
    {
     "name": "stdout",
     "output_type": "stream",
     "text": [
      "Evaluating fenvs.py..\n",
      "...fenvs.py imported in 0.00631 seconds\n"
     ]
    }
   ],
   "source": [
    "from pyplasm import *\n",
    "from workshop_10 import *\n",
    "import csv"
   ]
  },
  {
   "cell_type": "code",
   "execution_count": 2,
   "metadata": {
    "collapsed": true
   },
   "outputs": [],
   "source": [
    "def stringToFloat(str):\n",
    "    l = str.split(',')\n",
    "    newList=[]\n",
    "    for c in l:\n",
    "        elem = float(c)/10.\n",
    "        newList.append(elem)\n",
    "    return newList"
   ]
  },
  {
   "cell_type": "code",
   "execution_count": null,
   "metadata": {
    "collapsed": false
   },
   "outputs": [],
   "source": [
    "def provaCurva(file_name):\n",
    "    curva = STRUCT([QUOTE([0])])\n",
    "    lista = []\n",
    "    with open(file_name,'r') as csvFile:\n",
    "        reader = csv.reader(csvFile, delimiter=' ', quotechar='|')\n",
    "        for row in reader:\n",
    "            l = stringToFloat(row[0])\n",
    "            c = MAP(BEZIER(S1)([[l[0],l[1]],[l[2],l[3]]]))(INTERVALS(1)(5))\n",
    "            curva = STRUCT([curva,c])\n",
    "    base=CUBOID([100,100,0.5])\n",
    "    base=TEXTURE([\"pratoF.jpg\",True,False,1,1,0,20,20])(base)\n",
    "    base2=CUBOID([100,100,1])\n",
    "    base2=TEXTURE([\"legno.jpg\",True,False,1,1,0,1,1])(base2)\n",
    "    base2=T(3)(-1)(base2)\n",
    "    curva = OFFSET([2,2])(curva)\n",
    "    curva = PROD([curva,Q(0.7)])\n",
    "    curva=TEXTURE([\"sanpietrini.jpg\",True,False,1,1,0,20,20])(curva)\n",
    "    casa = doppio()\n",
    "    casa=S([1,2,3])([0.3,0.3,0.3])(casa)\n",
    "    casa=T(3)(0.5)(casa)\n",
    "    casa=R([1,2])(PI/5.4)(casa)\n",
    "    casa=T([1,2])([40,30])(casa)\n",
    "    struct=STRUCT([curva,base,base2,casa])\n",
    "    VIEW(struct)"
   ]
  },
  {
   "cell_type": "code",
   "execution_count": null,
   "metadata": {
    "collapsed": true
   },
   "outputs": [],
   "source": [
    "provaCurva(\"stradeSS.lines\")"
   ]
  }
 ],
 "metadata": {
  "anaconda-cloud": {},
  "kernelspec": {
   "display_name": "Python [default]",
   "language": "python",
   "name": "python2"
  },
  "language_info": {
   "codemirror_mode": {
    "name": "ipython",
    "version": 2
   },
   "file_extension": ".py",
   "mimetype": "text/x-python",
   "name": "python",
   "nbconvert_exporter": "python",
   "pygments_lexer": "ipython2",
   "version": "2.7.12"
  }
 },
 "nbformat": 4,
 "nbformat_minor": 1
}
